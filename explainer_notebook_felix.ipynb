{
 "cells": [
  {
   "cell_type": "markdown",
   "metadata": {
    "pycharm": {
     "name": "#%% md\n"
    }
   },
   "source": [
    "# Uncertainty Quantification in Graph Neural Networks\n",
    "##### Project hand-in for 02456 Deep Learning @ Technical University of Denmark (Fall 2022)\n",
    "\n",
    "In this notebook the key ideas behind Deep Evidential Learning will be presented and applied on a regression task using i) a simple 1D toy dataset for analyzing the model behaviour, ii) a synthetically created 3D graph dataset for being able to manipulate with OOD data as well as iii) the molecular 3D graph dataset QM7 for predicting molecular properties using an invariant message-passing network. This 3-step approach was chosen in order to break down the modeling task into simpler ones and for debugging purposes, both assisted in understanding how the models learn uncertainties.\n",
    "\n",
    "**Authors:**\n",
    "<br> Albert Kjøller Jacobsen      &nbsp;&emsp; (s194253@student.dtu.dk)\n",
    "<br> Aron Djurhuus Jacobsen       &nbsp;&nbsp; (s194262@student.dtu.dk)\n",
    "<br> Felix Borum Burmester        &nbsp;&emsp; (s194266@student.dtu.dk)\n",
    "<br> Phillip Chavarria Højbjerg   &nbsp; (s184984@student.dtu.dk)\n",
    "\n",
    "**Supervisor:** Mikkel Nørgaard Schmidt, DTU Compute\n",
    "\n",
    "\n",
    "*NOTE: This notebook provides a quick run-down of the handed-in report with a special focus on providing the code associated to the reported results for reproducibility purposes. A detailed analysis of the obtained results is provided in the report.*"
   ]
  },
  {
   "cell_type": "markdown",
   "metadata": {
    "pycharm": {
     "name": "#%% md\n"
    }
   },
   "source": [
    "### Table of Contents <a class=\"anchor\" id=\"0\"></a>\n",
    "\n",
    "- [1. Learning with uncertainty - why and how?](#1)\n",
    "- [2. Towards self-conscious neural networks - Deep Evidential Learning](#2)\n",
    "    - [2.1 - Modelling higher-order probabilities - the Normal-Inverse-Gamma distribution](#2.1)\n",
    "    - [2.2 - Learning parameters of the NIG distribution](#2.2)\n",
    "- [3. Deep Evidential Regression - evaluating the approach on a toy example](#3)\n",
    "    - [3.1 - Training the 1D toy model](#3.1)\n",
    "    - [3.2 - Evaluating the 1D toy model](#3.2)\n",
    "- [4. Modeling graph-structured data - introducing Message-Passing Neural Networks](#4)\n",
    "    - [4.1 - Restricting the feature space - invariance matters!](#4.1)\n",
    "    - [4.2 - Defining the synthetic setup](#4.2)\n",
    "    - [4.3 - Training the synthetic 3D model](#4.3)\n",
    "    - [4.4 - Evaluating the synthetic 3D model](#4.4)\n",
    "- [5. Applying uncertainty quantification to a down-stream task - Molecular Property prediction](#5)\n",
    "    - [5.1 - The QM7 dataset](#5.1)\n",
    "    - [5.2 - Training the model - predicting molecular energy](#5.2)\n",
    "    - [5.3 - Evaluating the model](#5.3)\n",
    "- [6. Discussion and Conclusion](#6)\n",
    "- [7. Possible Extensions](#7)"
   ]
  },
  {
   "cell_type": "markdown",
   "metadata": {
    "pycharm": {
     "name": "#%% md\n"
    }
   },
   "source": [
    "### 0. Loading functionalities\n"
   ]
  },
  {
   "cell_type": "code",
   "execution_count": 1,
   "metadata": {
    "pycharm": {
     "name": "#%%\n"
    }
   },
   "outputs": [],
   "source": [
    "import os, glob\n",
    "from PIL import Image\n",
    "\n",
    "import torch\n",
    "import numpy as np\n",
    "import matplotlib.pyplot as plt\n",
    "from omegaconf import OmegaConf\n",
    "\n",
    "from tensorboard import notebook\n",
    "\n",
    "from content.evaluate import evaluate_model"
   ]
  },
  {
   "cell_type": "markdown",
   "metadata": {
    "pycharm": {
     "name": "#%% md\n"
    }
   },
   "source": [
    "### 1. Learning with uncertainty - why and how? <a class=\"anchor\" id=\"1\"></a>\n",
    "\n",
    "<span style=\"color:red\"> Introducing the (general) problem of interest - why do we need uncertainties?</span>\n",
    "\n",
    "Machine Learning (ML) models - e.g. Deep Neural Networks - are validly deployed for solving several down-stream tasks due to their data-driven nature which often performs on par with other approaches. Though using such approaches often result in high performing models, these should be deployed with care when the modelled output/decision can have critical costs if modelled improperly - e.g. when classifying patient-related treatment, when estimating depth for visually acting robots or when predicting properties of molecules used within the field of medicine development. As such, capturing uncertainty of a Machine Learning model is crucial for several down-stream tasks and is a hot research topic within the field of Machine Learning.\n",
    "\n",
    "But what is uncertainty? In fact, the word \"uncertainty\" does not reduce to a single meaning, but can instead be separated into different types of uncertainty, namely **aleatoric** and **epistemic** uncertainty. While aleatoric uncertainty captures uncertainty within the observed data that a Machine Learning model uses for training, epistemic uncertainty captures uncertainty regarding the model's prediction such that high uncertainty is associated to Out-of-Domain (OOD) data points where the model has limited evidence.\n",
    "\n",
    "<center>\n",
    "    <table><tr>\n",
    "    <td> <img src=\"figures/aleatoric_simple.png\" alt=\"Drawing\" style=\"width: 250px;\"/> </td>\n",
    "    <td> <img src=\"figures/epistemic_simple.png\" alt=\"Drawing\" style=\"width: 250px;\"/> </td>\n",
    "    </tr></table>\n",
    "</center>\n",
    "\n",
    "*Figures taken from [Amini et al. - Deep Evidential Regression.](https://arxiv.org/pdf/1910.02600.pdf)*\n"
   ]
  },
  {
   "cell_type": "markdown",
   "metadata": {
    "pycharm": {
     "name": "#%% md\n"
    }
   },
   "source": [
    "### 2. Towards self-conscious neural networks - Deep Evidential Learning <a class=\"anchor\" id=\"2\"></a>\n",
    "\n",
    "<span style=\"color:red\"> How was  and what is Deep Evidential Learning? What have been done in the field and how did models perform when using this approach? </span>\n",
    "\n",
    "What should be evident, is that aleatoric uncertainty can <span style=\"color:red\"> always </span> be learned directly from data. More difficult is the task of modeling epistemic uncertainty, which one might think of as a kind of \"self-conscious\" or \"self-aware\" property of a model - it simply knows what it doesn't know and where it's predictive power is limited! One could argue that such a property should be a key component of all models that are to be deployed for solving a task. But how do we capture such \"self-consciousness\" when training deep neural networks?\n",
    "\n",
    "While **Bayesian Neural Networks** validly provides the tools for obtaining representations of epistemic uncertainty by placing probabilistic priors on the parameters of a network, this model class suffers from several limitations - most <span style=\"color:red\"> prominent </span> is the computational expense originating from e.g. the Monte Carlo sampling approach required as the analytical solution is <span style=\"color:red\"> intractable </span> for deep neural networks.\n",
    "\n",
    "Enter **Evidential Learning** - a method that approaches determination of epistemic uncertainty through an evidence acquisition process. Here, all acquired training points provides the basis for fitting a higher-order distribution, known as the **evidential distribution**, from which sampling results in lower-order likelihood functions. As such, this process directly places a higher-order prior on lower-order likelihood function rather than placing priors on network weights which is done when using Bayesian NNs.\n",
    "\n",
    "In the paper [*Deep Evidential Regression* by Amini et al.](https://arxiv.org/pdf/1910.02600.pdf) they argue, that their method of using evidential learning on a regression task is new, as evidential learning has typically been applied for classification tasks <span style=\"color:red\"> (as done by ... and ...) </span>. Furthermore, they argue that the task of defining a proper OOD exploited during training is unrealistic for most applications for most applications. Instead, they suggest an approach to evidential learning that solely leverages information from in-domain data points, yet still captures epistemic uncertainty on OOD data points.\n",
    "\n",
    "So you might wonder were to start? In fact, training an evidential learning model using deep learning is quite straightforward - all we have to do is define the higher-order distribution of interest and setup a deep neural network that outputs the parameters of this distribution. How easy is that?"
   ]
  },
  {
   "cell_type": "markdown",
   "metadata": {
    "pycharm": {
     "name": "#%% md\n"
    }
   },
   "source": [
    "#### 2.1 - Modelling higher-order probabilities - the Normal-Inverse-Gamma distribution <a class=\"anchor\" id=\"2.1\"></a>\n",
    "\n",
    "One way of approximating the higher-order, evidential distribution is by the use of the **Normal Inverse-Gamma (NIG) distribution**, for which the probability density function (PDF) is given by\n",
    "\n",
    "$$\n",
    "\\begin{equation}\n",
    "    p(\\mu, \\sigma^2 | \\gamma, \\nu, \\alpha, \\beta) =\n",
    "        \\frac{\\beta^\\alpha \\sqrt{\\nu}}\n",
    "        {\\Gamma(\\alpha)\\sqrt{2\\pi\\sigma^2}}\n",
    "        \\biggl ( \\frac{1}{\\sigma^2} \\biggr )^{\\alpha + 1}\n",
    "        \\exp \\biggl (- \\frac{2\\beta + \\nu ( \\gamma - \\mu )^2}{2\\sigma^2}\\biggr)\n",
    "\\end{equation}\n",
    "$$\n",
    "\n",
    "The NIG distribution assumes that the target, $(y_1, \\dots, y_N)$ are i.i.d. and follow a Gaussian with unknown mean and variance, $\\mu$ and $\\sigma^2$, respectively. These are to be probabilistically estimated from the evidential priors. Assuming that observations are taken from a Gaussian (as Amini et al. argues) the evidential prior on the unknown mean, $\\mu$, becomes a Gaussian prior, whereas the unknown variance, $\\sigma^2$, gets assigned an Inverse-Gamma prior. This is summarized below:\n",
    "\n",
    "$$\n",
    "\\begin{align*}\n",
    "    (y_1, \\dots, y_N) &\\sim \\mathcal{N}(\\mu, \\sigma^2) \\\\ \\\\\n",
    "    \\mu &\\sim \\mathcal{N}(\\gamma, \\sigma^2\\nu^{-1}) \\\\\n",
    "    \\sigma^2 &\\sim \\Gamma^{-1}(\\alpha, \\beta)\n",
    "\\end{align*}\n",
    "$$\n",
    "\n",
    "For obtaining the expression given in the above equation, it is further assumed that the true posterior distribution can be estimated by a factorizable estimated posterior distribution, $q(\\mu, \\sigma^2) = p(\\mu, \\sigma^2 | y_1, \\dots, y_N)$ such that $q(\\mu, \\sigma^2) = q(\\mu) q(\\sigma^2)$.\n",
    "\n",
    "As such, this higher-order, evidential distribution can be sampled to obtain parameter-values $\\mu_i$ and $\\sigma_i^2$ that then define the lower-order likelihood distribution from which a variety of realizations can be sampled. The NIG distribution is implemented as a `class`-object below for visualizing the PDF when locking the parameters $\\gamma, \\nu, \\alpha and \\beta$ to specific values."
   ]
  },
  {
   "cell_type": "code",
   "execution_count": 2,
   "metadata": {
    "pycharm": {
     "name": "#%%\n"
    }
   },
   "outputs": [],
   "source": [
    "from scipy.special import gamma as Gamma\n",
    "from scipy.stats import expon, gengamma\n",
    "\n",
    "# Inspiration from here: https://deebuls.github.io/devblog/probability/python/plotting/matplotlib/2020/05/19/probability-normalinversegamma.html\n",
    "class NIG:\n",
    "    def __init__(self, gamma, nu, alpha, beta):\n",
    "\n",
    "        self.gamma, self.nu, self.alpha, self.beta = gamma, nu, alpha, beta\n",
    "        assert alpha > 0 and beta >= 0 and nu >= 0\n",
    "\n",
    "    def pdf(self, mu, sigma2):\n",
    "        t1 = ((self.beta)**self.alpha) * ((self.nu)**0.5)\n",
    "        t2 = Gamma(self.alpha) * (sigma2 * (2 * np.pi)**0.5)\n",
    "        t3 = (1 / sigma2**2)**(self.alpha + 1)\n",
    "        t4 = expon.pdf((2*self.beta + self.nu * (mu - self.gamma)**2)/(2*sigma2**2))\n",
    "        return (t1/t2)*t3*t4\n",
    "\n",
    "    def plot(self, zoom_out=5, steps=100, axs=None, colorbar=False):\n",
    "\n",
    "        # max_sig_squared = gengamma.ppf(zoom, self.alpha, self.beta) * self.nu\n",
    "\n",
    "        max_sig_squared = zoom_out\n",
    "        mu_range = np.linspace(self.gamma - 1 * max_sig_squared, self.gamma + 1 * max_sig_squared, num=steps)\n",
    "        sigma_range = np.linspace(0.01, max_sig_squared, num=steps)\n",
    "\n",
    "        mu_grid, sigma_grid = np.meshgrid(mu_range, sigma_range)\n",
    "        pdf_mesh = self.pdf(mu_grid, sigma_grid)\n",
    "\n",
    "        if axs:\n",
    "            X, Y, Z = np.sqrt(self.nu / self.beta) * (mu_grid - self.gamma), sigma_grid / self.beta, pdf_mesh\n",
    "            cplot = axs.contourf(X, Y, Z, 10, cmap='Blues')\n",
    "\n",
    "            axs.axis('equal')\n",
    "            axs.set_title(rf\"$\\gamma$ = {self.gamma}, $\\nu$ = {self.nu}, $\\alpha$ = {self.alpha}, $\\beta$ = {self.beta}\")\n",
    "            axs.set_xlabel(r\"$\\sqrt{\\frac{\\nu}{\\beta}}(\\gamma - \\mu)$\")\n",
    "            axs.set_ylabel(r\"$\\sigma^2 / \\beta $\")\n",
    "\n",
    "            if colorbar == True:\n",
    "                plt.colorbar(cplot)"
   ]
  },
  {
   "cell_type": "markdown",
   "metadata": {
    "pycharm": {
     "name": "#%% md\n"
    }
   },
   "source": [
    "Using the `NIG`-class we can plot how the distribution looks when fixing the parameter-values (inspiration taken from [here](https://en.wikipedia.org/wiki/Normal-inverse-gamma_distribution))."
   ]
  },
  {
   "cell_type": "code",
   "execution_count": 3,
   "metadata": {
    "pycharm": {
     "name": "#%%\n"
    }
   },
   "outputs": [
    {
     "data": {
      "image/png": "[encoded data removed]",
      "text/plain": [
       "<Figure size 1080x360 with 4 Axes>"
      ]
     },
     "metadata": {},
     "output_type": "display_data"
    }
   ],
   "source": [
    "%matplotlib inline\n",
    "plt.style.use('seaborn-white')\n",
    "\n",
    "fig, axs = plt.subplots(1, 3, sharey=True, figsize=(15, 5))\n",
    "fig.suptitle(r'Varying the $\\alpha$-parameter', fontsize=18)\n",
    "fig.tight_layout(rect=[0, 0, 0.98, 0.95])\n",
    "\n",
    "nig = NIG(gamma=0, nu=1, alpha=1,beta=1)\n",
    "nig.plot(zoom_out=4.0, axs=axs[0])\n",
    "nig = NIG(gamma=0, nu=1, alpha=2, beta=1)\n",
    "nig.plot(zoom_out=4.0, axs=axs[1])\n",
    "nig = NIG(gamma=0, nu=1, alpha=4, beta=1)\n",
    "nig.plot(zoom_out=4.0, axs=axs[2], colorbar=True)"
   ]
  },
  {
   "cell_type": "markdown",
   "metadata": {
    "pycharm": {
     "name": "#%% md\n"
    }
   },
   "source": [
    "As can be seen on the above plot - where $\\gamma=0, \\nu=1$ and $\\beta=1$ are set to (meaning that the axes corresponds to $-\\mu$ and $\\sigma^2$ respectively -, increasing the $\\alpha$-parameter squeezes the area high probability mass towards a lower value of $\\sigma^2$. This trend makes sense as the $\\alpha$-parameter can be interpreted as virtual-observations (evidence) related to the $\\sigma^2$-parameter.\n",
    "\n",
    "##### What are the learned parameters useful for?\n",
    "The parameters of the NIG distribution can be directly related to the prediction of the model as well as its aleatoric and epistemic uncertainties. These are defined as follows (in order 'prediction', 'aleatoric', 'epistemic'):\n",
    "\n",
    "$$\n",
    "    \\mathbb{E}[\\mu] = \\gamma, \\qquad\\qquad \\mathbb{E}[\\sigma^2] = \\frac{\\beta}{\\alpha - 1}, \\qquad\\qquad \\text{Var}[\\mu] = \\frac{\\beta}{\\nu(\\alpha - 1)}\n",
    "$$\n",
    "\n",
    "So, the setup proposed by Amini et al. provides a framework for decoupling the total uncertainty of the model into its aleatoric and epistemic subparts!"
   ]
  },
  {
   "cell_type": "markdown",
   "metadata": {
    "pycharm": {
     "name": "#%% md\n"
    }
   },
   "source": [
    "#### 2.2 - Learning parameters of the NIG distribution <a class=\"anchor\" id=\"2.2\"></a>\n",
    "\n",
    "Similarly to other optimization task for deep learning, learning the parameters of the evidential distribution can be done through **Maximum Likelihood Estimation (MLE)**, thereby minimizing the **negative log-likelihood (NLL)**. Applying the NLL approach directly on the NIG distribution, the loss term becomes\n",
    "\n",
    "\\begin{equation}\n",
    "    \\mathcal{L}_i^{\\mathrm{NLL}}(\\boldsymbol{w})=\\frac{1}{2} \\log \\left(\\frac{\\pi}{v}\\right)-\\alpha \\log (\\Omega)+\\left(\\alpha+\\frac{1}{2}\\right) \\log \\left(\\left(y_i-\\gamma\\right)^2 v+\\Omega\\right)+\\log \\left(\\frac{\\Gamma(\\alpha)}{\\Gamma\\left(\\alpha+\\frac{1}{2}\\right)}\\right)\n",
    "\\end{equation}\n",
    "\n",
    "where $\\Omega=2 \\beta(1+v)$. The effect of this loss-term is that the neural network learns to fit observations by maximizing model evidence.\n",
    "\n",
    "For emphasizing high epistemic uncertainty for OOD data points, an additional loss term penalizing model evidence by the absolute error of the model's prediction is included. This loss termand acts as a regularizer and is given by\n",
    "\\begin{equation}\n",
    "    \\mathcal{L}_i^{\\mathrm{R}}(\\boldsymbol{w})=\\left|y_i-\\gamma\\right| \\cdot(2 v+\\alpha)\n",
    "\\end{equation}\n",
    "\n",
    "The combined loss includes a scaling parameter, $\\lambda$ on the regularization term and thus becomes\n",
    "\\begin{equation}\n",
    "    \\mathcal{L}_i(\\boldsymbol{w})=\\mathcal{L}_i^{\\mathrm{NLL}}(\\boldsymbol{w})+\\lambda \\mathcal{L}_i^{\\mathrm{R}}(\\boldsymbol{w})\n",
    "\\end{equation}\n",
    "\n",
    "As Armini et al. argues, setting $\\lambda=0$ results in an over-confident model for OOD data while a value of $\\lambda$ too high will inflate model uncertainty. For respecting the natural structure of the NIG distribution, the learned parameters are restricted by applying various activation functions on the outputs of the output layer. As such $\\gamma$ gets a linear activation as it equals the model prediction, $\\nu$ and $\\beta$ must be positive runs through a softplus activation, whereas $\\alpha$ must be above 1 for which reason the softplus activation and addition of 1 is applied on the output level.\n",
    "\n",
    "The total loss is implemented as a class, `NIGLoss`, containing all subparts of the total loss-function."
   ]
  },
  {
   "cell_type": "code",
   "execution_count": 4,
   "metadata": {
    "pycharm": {
     "name": "#%%\n"
    }
   },
   "outputs": [],
   "source": [
    "class NIGLoss:\n",
    "    def __init__(self, lambd_) -> None:\n",
    "        self.lambd_ = lambd_\n",
    "\n",
    "    def __call__(self, evidential_params_, y):\n",
    "        \"\"\"\n",
    "        Forward pass through the NIGLoss function.\n",
    "        \n",
    "        Parameters\n",
    "        ----------\n",
    "        evidential_params_: parameters of the evidential distribution (shape: batch_size x 4)\n",
    "        y: target attribute of the regression task (shape: batch_size x 1)\n",
    "\n",
    "        Returns\n",
    "        -------\n",
    "        A tuple of the total loss as well as a dictionary of \"extra\" losses / subparts of the total loss.\n",
    "        ('Loss', total_loss), {'NLL': nll_loss, 'REG': reg_loss, 'RMSE': rmse_loss}\n",
    "        \n",
    "        \"\"\"\n",
    "        # Separate the evidential parameters\n",
    "        self.gamma, self.nu, self.alpha, self.beta = evidential_params_[:, 0].reshape(-1, 1), \\\n",
    "                                                     evidential_params_[:, 1].reshape(-1, 1), \\\n",
    "                                                     evidential_params_[:, 2].reshape(-1, 1), \\\n",
    "                                                     evidential_params_[:, 3].reshape(-1, 1)\n",
    "\n",
    "        # Compute NLL and regularization losses\n",
    "        nll_loss = self.NIG_NLL(y)\n",
    "        reg_loss = self.NIG_REGULARIZER(y)\n",
    "\n",
    "        # Compute total loss\n",
    "        total_loss = nll_loss + (self.lambd_ * reg_loss)\n",
    "        return ('Loss', total_loss.mean()), {'NLL': nll_loss.mean(), 'REG': reg_loss.mean(), 'RMSE': torch.sqrt(torch.mean((self.gamma - y)**2))}\n",
    "\n",
    "    def NIG_NLL(self, y):\n",
    "        \"\"\"\n",
    "        Computes negative log-likelihood of the NIG distribution for a regression target, y. Maximizes model fit.\n",
    "        Implementation follows Equation 8 in this paper (https://arxiv.org/pdf/1910.02600.pdf)\n",
    "        \n",
    "        \"\"\"\n",
    "        omega = 2 * self.beta * (1 + self.nu)\n",
    "        nll = 0.5 * torch.log(torch.pi / (self.nu)) \\\n",
    "              - self.alpha * torch.log(omega) \\\n",
    "              + (self.alpha + 0.5) * torch.log((y-self.gamma)**2 * self.nu + omega) \\\n",
    "              + torch.lgamma(self.alpha) - torch.lgamma(self.alpha + 0.5)\n",
    "        return nll\n",
    "\n",
    "    def NIG_REGULARIZER(self, y):\n",
    "        \"\"\"\n",
    "        Computes regularizing loss on the NIG distribution for a regression target, y. Minimizes evidence on errors by\n",
    "        scaling the error with the total evidence of the infered posterior. \n",
    "        Implementation follows Equation 9 in this paper (https://arxiv.org/pdf/1910.02600.pdf)\n",
    "        \n",
    "        \"\"\"\n",
    "        return abs(y - self.gamma) * (2*self.nu + self.alpha)"
   ]
  },
  {
   "cell_type": "markdown",
   "metadata": {
    "pycharm": {
     "name": "#%% md\n"
    }
   },
   "source": [
    "### 3. Deep Evidential Regression - evaluating the approach on a toy example <a class=\"anchor\" id=\"3\"></a>\n",
    "\n",
    "Thinking of aleatoric and epistemic uncertainties for multi-dimensional data is abstract and these concepts are often hard to grasp with as defining In- and Out-of-Domain data can be a hard task. For this reason, the evidential learning strategy using the defined NIG loss is applied to a simple 1D example where the various uncertainty types can be interpreted visually.\n",
    "\n",
    "The 1D toy regression task consists in approximating a 3rd order polynomial where observations of the target variable are affected by a noise source. This noise is modelled as Gaussian noise with a variance of 3 and the problem can be described as\n",
    "\n",
    "$$\n",
    "    y = x^3 + \\epsilon, \\qquad \\epsilon \\sim \\mathcal{N}(0, 3)\n",
    "$$\n",
    "\n",
    "The regression task at hand then consists of learning to approximate the 3rd order polynomial using a restricted training set, i.e. $x \\in [-4, 4]$. During validation the model is further evaluated on OOD data, i.e. $x \\in [-6, 6]$. As the purpose is only to visually inspect the evidential learning approach, no test dataset is defined.\n",
    "\n",
    "Using the auxiliary function `load_data` (found in content/modules/utils.py) this simple regression problem is loaded as a dictionary containing a train, validation and test set."
   ]
  },
  {
   "cell_type": "code",
   "execution_count": 5,
   "metadata": {
    "pycharm": {
     "name": "#%%\n"
    }
   },
   "outputs": [
    {
     "ename": "AssertionError",
     "evalue": "Torch not compiled with CUDA enabled",
     "output_type": "error",
     "traceback": [
      "\u001b[0;31m---------------------------------------------------------------------------\u001b[0m",
      "\u001b[0;31mFileNotFoundError\u001b[0m                         Traceback (most recent call last)",
      "\u001b[0;32m~/Desktop/AI_Master/deep_learning/uq-gnn/content/modules/utils.py\u001b[0m in \u001b[0;36mload_data\u001b[0;34m(args)\u001b[0m\n\u001b[1;32m     39\u001b[0m     \u001b[0;32mtry\u001b[0m\u001b[0;34m:\u001b[0m\u001b[0;34m\u001b[0m\u001b[0;34m\u001b[0m\u001b[0m\n\u001b[0;32m---> 40\u001b[0;31m         \u001b[0mloaders\u001b[0m \u001b[0;34m=\u001b[0m \u001b[0;34m{\u001b[0m\u001b[0mdset_type\u001b[0m\u001b[0;34m:\u001b[0m \u001b[0mtorch\u001b[0m\u001b[0;34m.\u001b[0m\u001b[0mload\u001b[0m\u001b[0;34m(\u001b[0m\u001b[0;34mf\"{args.data_dir}/{args.dataset}/{dset_type}_loader_BZ{args.batch_size}.pth\"\u001b[0m\u001b[0;34m)\u001b[0m \u001b[0;32mfor\u001b[0m \u001b[0mdset_type\u001b[0m \u001b[0;32min\u001b[0m \u001b[0;34m[\u001b[0m\u001b[0;34m'train'\u001b[0m\u001b[0;34m,\u001b[0m \u001b[0;34m'val'\u001b[0m\u001b[0;34m,\u001b[0m \u001b[0;34m'test'\u001b[0m\u001b[0;34m]\u001b[0m\u001b[0;34m}\u001b[0m\u001b[0;34m\u001b[0m\u001b[0;34m\u001b[0m\u001b[0m\n\u001b[0m\u001b[1;32m     41\u001b[0m         \u001b[0mprint\u001b[0m\u001b[0;34m(\u001b[0m\u001b[0;34m\"\\nLOADED DATALOADER OBJECTS!\"\u001b[0m\u001b[0;34m)\u001b[0m\u001b[0;34m\u001b[0m\u001b[0;34m\u001b[0m\u001b[0m\n",
      "\u001b[0;32m~/Desktop/AI_Master/deep_learning/uq-gnn/content/modules/utils.py\u001b[0m in \u001b[0;36m<dictcomp>\u001b[0;34m(.0)\u001b[0m\n\u001b[1;32m     39\u001b[0m     \u001b[0;32mtry\u001b[0m\u001b[0;34m:\u001b[0m\u001b[0;34m\u001b[0m\u001b[0;34m\u001b[0m\u001b[0m\n\u001b[0;32m---> 40\u001b[0;31m         \u001b[0mloaders\u001b[0m \u001b[0;34m=\u001b[0m \u001b[0;34m{\u001b[0m\u001b[0mdset_type\u001b[0m\u001b[0;34m:\u001b[0m \u001b[0mtorch\u001b[0m\u001b[0;34m.\u001b[0m\u001b[0mload\u001b[0m\u001b[0;34m(\u001b[0m\u001b[0;34mf\"{args.data_dir}/{args.dataset}/{dset_type}_loader_BZ{args.batch_size}.pth\"\u001b[0m\u001b[0;34m)\u001b[0m \u001b[0;32mfor\u001b[0m \u001b[0mdset_type\u001b[0m \u001b[0;32min\u001b[0m \u001b[0;34m[\u001b[0m\u001b[0;34m'train'\u001b[0m\u001b[0;34m,\u001b[0m \u001b[0;34m'val'\u001b[0m\u001b[0;34m,\u001b[0m \u001b[0;34m'test'\u001b[0m\u001b[0;34m]\u001b[0m\u001b[0;34m}\u001b[0m\u001b[0;34m\u001b[0m\u001b[0;34m\u001b[0m\u001b[0m\n\u001b[0m\u001b[1;32m     41\u001b[0m         \u001b[0mprint\u001b[0m\u001b[0;34m(\u001b[0m\u001b[0;34m\"\\nLOADED DATALOADER OBJECTS!\"\u001b[0m\u001b[0;34m)\u001b[0m\u001b[0;34m\u001b[0m\u001b[0;34m\u001b[0m\u001b[0m\n",
      "\u001b[0;32m~/opt/anaconda3/lib/python3.8/site-packages/torch/serialization.py\u001b[0m in \u001b[0;36mload\u001b[0;34m(f, map_location, pickle_module, **pickle_load_args)\u001b[0m\n\u001b[1;32m    593\u001b[0m \u001b[0;34m\u001b[0m\u001b[0m\n\u001b[0;32m--> 594\u001b[0;31m     \u001b[0;32mwith\u001b[0m \u001b[0m_open_file_like\u001b[0m\u001b[0;34m(\u001b[0m\u001b[0mf\u001b[0m\u001b[0;34m,\u001b[0m \u001b[0;34m'rb'\u001b[0m\u001b[0;34m)\u001b[0m \u001b[0;32mas\u001b[0m \u001b[0mopened_file\u001b[0m\u001b[0;34m:\u001b[0m\u001b[0;34m\u001b[0m\u001b[0;34m\u001b[0m\u001b[0m\n\u001b[0m\u001b[1;32m    595\u001b[0m         \u001b[0;32mif\u001b[0m \u001b[0m_is_zipfile\u001b[0m\u001b[0;34m(\u001b[0m\u001b[0mopened_file\u001b[0m\u001b[0;34m)\u001b[0m\u001b[0;34m:\u001b[0m\u001b[0;34m\u001b[0m\u001b[0;34m\u001b[0m\u001b[0m\n",
      "\u001b[0;32m~/opt/anaconda3/lib/python3.8/site-packages/torch/serialization.py\u001b[0m in \u001b[0;36m_open_file_like\u001b[0;34m(name_or_buffer, mode)\u001b[0m\n\u001b[1;32m    229\u001b[0m     \u001b[0;32mif\u001b[0m \u001b[0m_is_path\u001b[0m\u001b[0;34m(\u001b[0m\u001b[0mname_or_buffer\u001b[0m\u001b[0;34m)\u001b[0m\u001b[0;34m:\u001b[0m\u001b[0;34m\u001b[0m\u001b[0;34m\u001b[0m\u001b[0m\n\u001b[0;32m--> 230\u001b[0;31m         \u001b[0;32mreturn\u001b[0m \u001b[0m_open_file\u001b[0m\u001b[0;34m(\u001b[0m\u001b[0mname_or_buffer\u001b[0m\u001b[0;34m,\u001b[0m \u001b[0mmode\u001b[0m\u001b[0;34m)\u001b[0m\u001b[0;34m\u001b[0m\u001b[0;34m\u001b[0m\u001b[0m\n\u001b[0m\u001b[1;32m    231\u001b[0m     \u001b[0;32melse\u001b[0m\u001b[0;34m:\u001b[0m\u001b[0;34m\u001b[0m\u001b[0;34m\u001b[0m\u001b[0m\n",
      "\u001b[0;32m~/opt/anaconda3/lib/python3.8/site-packages/torch/serialization.py\u001b[0m in \u001b[0;36m__init__\u001b[0;34m(self, name, mode)\u001b[0m\n\u001b[1;32m    210\u001b[0m     \u001b[0;32mdef\u001b[0m \u001b[0m__init__\u001b[0m\u001b[0;34m(\u001b[0m\u001b[0mself\u001b[0m\u001b[0;34m,\u001b[0m \u001b[0mname\u001b[0m\u001b[0;34m,\u001b[0m \u001b[0mmode\u001b[0m\u001b[0;34m)\u001b[0m\u001b[0;34m:\u001b[0m\u001b[0;34m\u001b[0m\u001b[0;34m\u001b[0m\u001b[0m\n\u001b[0;32m--> 211\u001b[0;31m         \u001b[0msuper\u001b[0m\u001b[0;34m(\u001b[0m\u001b[0m_open_file\u001b[0m\u001b[0;34m,\u001b[0m \u001b[0mself\u001b[0m\u001b[0;34m)\u001b[0m\u001b[0;34m.\u001b[0m\u001b[0m__init__\u001b[0m\u001b[0;34m(\u001b[0m\u001b[0mopen\u001b[0m\u001b[0;34m(\u001b[0m\u001b[0mname\u001b[0m\u001b[0;34m,\u001b[0m \u001b[0mmode\u001b[0m\u001b[0;34m)\u001b[0m\u001b[0;34m)\u001b[0m\u001b[0;34m\u001b[0m\u001b[0;34m\u001b[0m\u001b[0m\n\u001b[0m\u001b[1;32m    212\u001b[0m \u001b[0;34m\u001b[0m\u001b[0m\n",
      "\u001b[0;31mFileNotFoundError\u001b[0m: [Errno 2] No such file or directory: 'data/TOY1D/train_loader_BZ128.pth'",
      "\nDuring handling of the above exception, another exception occurred:\n",
      "\u001b[0;31mAssertionError\u001b[0m                            Traceback (most recent call last)",
      "\u001b[0;32m<ipython-input-5-a8c4eb71a2c4>\u001b[0m in \u001b[0;36m<module>\u001b[0;34m\u001b[0m\n\u001b[1;32m     13\u001b[0m \u001b[0;34m\u001b[0m\u001b[0m\n\u001b[1;32m     14\u001b[0m \u001b[0;31m# Create dataloaders\u001b[0m\u001b[0;34m\u001b[0m\u001b[0;34m\u001b[0m\u001b[0;34m\u001b[0m\u001b[0m\n\u001b[0;32m---> 15\u001b[0;31m \u001b[0mdataloaders\u001b[0m \u001b[0;34m=\u001b[0m \u001b[0mload_data\u001b[0m\u001b[0;34m(\u001b[0m\u001b[0margs\u001b[0m\u001b[0;34m)\u001b[0m\u001b[0;34m\u001b[0m\u001b[0;34m\u001b[0m\u001b[0m\n\u001b[0m\u001b[1;32m     16\u001b[0m \u001b[0mprint\u001b[0m\u001b[0;34m(\u001b[0m\u001b[0;34mf\"Loaded toy dataset!\\nDataset types available: {[type_ for type_ in dataloaders.keys() if dataloaders[type_] != None]}\"\u001b[0m\u001b[0;34m)\u001b[0m\u001b[0;34m\u001b[0m\u001b[0;34m\u001b[0m\u001b[0m\n",
      "\u001b[0;32m~/Desktop/AI_Master/deep_learning/uq-gnn/content/modules/utils.py\u001b[0m in \u001b[0;36mload_data\u001b[0;34m(args)\u001b[0m\n\u001b[1;32m     42\u001b[0m     \u001b[0;32mexcept\u001b[0m \u001b[0mFileNotFoundError\u001b[0m\u001b[0;34m:\u001b[0m\u001b[0;34m\u001b[0m\u001b[0;34m\u001b[0m\u001b[0m\n\u001b[1;32m     43\u001b[0m         \u001b[0;31m# Load data\u001b[0m\u001b[0;34m\u001b[0m\u001b[0;34m\u001b[0m\u001b[0;34m\u001b[0m\u001b[0m\n\u001b[0;32m---> 44\u001b[0;31m         \u001b[0mdataset\u001b[0m \u001b[0;34m=\u001b[0m \u001b[0mretrieve_dataset\u001b[0m\u001b[0;34m(\u001b[0m\u001b[0margs\u001b[0m\u001b[0;34m)\u001b[0m\u001b[0;34m\u001b[0m\u001b[0;34m\u001b[0m\u001b[0m\n\u001b[0m\u001b[1;32m     45\u001b[0m \u001b[0;34m\u001b[0m\u001b[0m\n\u001b[1;32m     46\u001b[0m         \u001b[0;32mif\u001b[0m \u001b[0margs\u001b[0m\u001b[0;34m.\u001b[0m\u001b[0mdataset\u001b[0m \u001b[0;34m==\u001b[0m \u001b[0;34m'TOY1D'\u001b[0m\u001b[0;34m:\u001b[0m \u001b[0;31m# TODO: add test as ARON said?\u001b[0m\u001b[0;34m\u001b[0m\u001b[0;34m\u001b[0m\u001b[0m\n",
      "\u001b[0;32m~/Desktop/AI_Master/deep_learning/uq-gnn/content/modules/utils.py\u001b[0m in \u001b[0;36mretrieve_dataset\u001b[0;34m(args)\u001b[0m\n\u001b[1;32m     15\u001b[0m     \u001b[0mdevice\u001b[0m \u001b[0;34m=\u001b[0m \u001b[0mtorch\u001b[0m\u001b[0;34m.\u001b[0m\u001b[0mdevice\u001b[0m\u001b[0;34m(\u001b[0m\u001b[0margs\u001b[0m\u001b[0;34m.\u001b[0m\u001b[0mdevice\u001b[0m\u001b[0;34m)\u001b[0m\u001b[0;34m\u001b[0m\u001b[0;34m\u001b[0m\u001b[0m\n\u001b[1;32m     16\u001b[0m     \u001b[0;32mif\u001b[0m \u001b[0margs\u001b[0m\u001b[0;34m.\u001b[0m\u001b[0mdataset\u001b[0m \u001b[0;34m==\u001b[0m \u001b[0;34m'TOY1D'\u001b[0m\u001b[0;34m:\u001b[0m\u001b[0;34m\u001b[0m\u001b[0;34m\u001b[0m\u001b[0m\n\u001b[0;32m---> 17\u001b[0;31m         return {'train': ToyDataset1D(B=args.batch_size, N=args.N_points, range_=(-4, 4), noise_level=args.toy_noise_level, device=device),\n\u001b[0m\u001b[1;32m     18\u001b[0m                 'val': ToyDataset1D(B=args.batch_size, N=args.N_points, range_=(-6, 6), noise_level=args.toy_noise_level, device=device)}\n\u001b[1;32m     19\u001b[0m \u001b[0;34m\u001b[0m\u001b[0m\n",
      "\u001b[0;32m~/Desktop/AI_Master/deep_learning/uq-gnn/content/modules/Datasets.py\u001b[0m in \u001b[0;36m__init__\u001b[0;34m(self, B, N, range_, device, noise_level, visualize_on_load, seed)\u001b[0m\n\u001b[1;32m     32\u001b[0m         \u001b[0mself\u001b[0m\u001b[0;34m.\u001b[0m\u001b[0mnum_batches\u001b[0m \u001b[0;34m=\u001b[0m \u001b[0mN\u001b[0m \u001b[0;34m//\u001b[0m \u001b[0mB\u001b[0m  \u001b[0;31m# NUMBER OF BATCHES\u001b[0m\u001b[0;34m\u001b[0m\u001b[0;34m\u001b[0m\u001b[0m\n\u001b[1;32m     33\u001b[0m \u001b[0;34m\u001b[0m\u001b[0m\n\u001b[0;32m---> 34\u001b[0;31m         \u001b[0mself\u001b[0m\u001b[0;34m.\u001b[0m\u001b[0mcreate_dataset\u001b[0m\u001b[0;34m(\u001b[0m\u001b[0;34m)\u001b[0m\u001b[0;34m\u001b[0m\u001b[0;34m\u001b[0m\u001b[0m\n\u001b[0m\u001b[1;32m     35\u001b[0m         \u001b[0;32mif\u001b[0m \u001b[0mvisualize_on_load\u001b[0m \u001b[0;34m==\u001b[0m \u001b[0;32mTrue\u001b[0m\u001b[0;34m:\u001b[0m\u001b[0;34m\u001b[0m\u001b[0;34m\u001b[0m\u001b[0m\n\u001b[1;32m     36\u001b[0m             \u001b[0mself\u001b[0m\u001b[0;34m.\u001b[0m\u001b[0mvisualize_dataset\u001b[0m\u001b[0;34m(\u001b[0m\u001b[0mfigsize\u001b[0m\u001b[0;34m=\u001b[0m\u001b[0;34m(\u001b[0m\u001b[0;36m8\u001b[0m\u001b[0;34m,\u001b[0m \u001b[0;36m6\u001b[0m\u001b[0;34m)\u001b[0m\u001b[0;34m)\u001b[0m\u001b[0;34m\u001b[0m\u001b[0;34m\u001b[0m\u001b[0m\n",
      "\u001b[0;32m~/Desktop/AI_Master/deep_learning/uq-gnn/content/modules/Datasets.py\u001b[0m in \u001b[0;36mcreate_dataset\u001b[0;34m(self)\u001b[0m\n\u001b[1;32m     54\u001b[0m         \u001b[0mself\u001b[0m\u001b[0;34m.\u001b[0m\u001b[0mdata\u001b[0m \u001b[0;34m=\u001b[0m \u001b[0;34m{\u001b[0m\u001b[0;34m}\u001b[0m\u001b[0;34m\u001b[0m\u001b[0;34m\u001b[0m\u001b[0m\n\u001b[1;32m     55\u001b[0m         \u001b[0morder_\u001b[0m \u001b[0;34m=\u001b[0m \u001b[0mtorch\u001b[0m\u001b[0;34m.\u001b[0m\u001b[0mrandperm\u001b[0m\u001b[0;34m(\u001b[0m\u001b[0mself\u001b[0m\u001b[0;34m.\u001b[0m\u001b[0mN\u001b[0m\u001b[0;34m)\u001b[0m  \u001b[0;31m# shuffle data\u001b[0m\u001b[0;34m\u001b[0m\u001b[0;34m\u001b[0m\u001b[0m\n\u001b[0;32m---> 56\u001b[0;31m         self.data['data'] = torch.FloatTensor(self.N).uniform_(self.range_[0], self.range_[1])[order_].reshape(-1,\n\u001b[0m\u001b[1;32m     57\u001b[0m                                                                                                                \u001b[0mself\u001b[0m\u001b[0;34m.\u001b[0m\u001b[0mB\u001b[0m\u001b[0;34m,\u001b[0m\u001b[0;34m\u001b[0m\u001b[0;34m\u001b[0m\u001b[0m\n\u001b[1;32m     58\u001b[0m                                                                                                                \u001b[0;36m1\u001b[0m\u001b[0;34m)\u001b[0m\u001b[0;34m.\u001b[0m\u001b[0mto\u001b[0m\u001b[0;34m(\u001b[0m\u001b[0;34m\u001b[0m\u001b[0;34m\u001b[0m\u001b[0m\n",
      "\u001b[0;32m~/opt/anaconda3/lib/python3.8/site-packages/torch/cuda/__init__.py\u001b[0m in \u001b[0;36m_lazy_init\u001b[0;34m()\u001b[0m\n\u001b[1;32m    206\u001b[0m                 \"multiprocessing, you must use the 'spawn' start method\")\n\u001b[1;32m    207\u001b[0m         \u001b[0;32mif\u001b[0m \u001b[0;32mnot\u001b[0m \u001b[0mhasattr\u001b[0m\u001b[0;34m(\u001b[0m\u001b[0mtorch\u001b[0m\u001b[0;34m.\u001b[0m\u001b[0m_C\u001b[0m\u001b[0;34m,\u001b[0m \u001b[0;34m'_cuda_getDeviceCount'\u001b[0m\u001b[0;34m)\u001b[0m\u001b[0;34m:\u001b[0m\u001b[0;34m\u001b[0m\u001b[0;34m\u001b[0m\u001b[0m\n\u001b[0;32m--> 208\u001b[0;31m             \u001b[0;32mraise\u001b[0m \u001b[0mAssertionError\u001b[0m\u001b[0;34m(\u001b[0m\u001b[0;34m\"Torch not compiled with CUDA enabled\"\u001b[0m\u001b[0;34m)\u001b[0m\u001b[0;34m\u001b[0m\u001b[0;34m\u001b[0m\u001b[0m\n\u001b[0m\u001b[1;32m    209\u001b[0m         \u001b[0;32mif\u001b[0m \u001b[0m_cudart\u001b[0m \u001b[0;32mis\u001b[0m \u001b[0;32mNone\u001b[0m\u001b[0;34m:\u001b[0m\u001b[0;34m\u001b[0m\u001b[0;34m\u001b[0m\u001b[0m\n\u001b[1;32m    210\u001b[0m             raise AssertionError(\n",
      "\u001b[0;31mAssertionError\u001b[0m: Torch not compiled with CUDA enabled"
     ]
    }
   ],
   "source": [
    "from content.modules.utils import load_data\n",
    "\n",
    "# Specify arguments for the load_data function\n",
    "DATA_DIR = f'data'\n",
    "DATASET = 'TOY1D'\n",
    "BATCH_SIZE = 128\n",
    "N_POINTS = 1024\n",
    "DEVICE ='cuda'\n",
    "\n",
    "# Create configuration dictionary\n",
    "args = OmegaConf.create({'data_dir': DATA_DIR, 'dataset': DATASET, 'N_points': N_POINTS, 'toy_noise_level': 3,\n",
    "                         'batch_size': BATCH_SIZE, 'device': DEVICE})\n",
    "\n",
    "# Create dataloaders\n",
    "dataloaders = load_data(args)\n",
    "print(f\"Loaded toy dataset!\\nDataset types available: {[type_ for type_ in dataloaders.keys() if dataloaders[type_] != None]}\")"
   ]
  },
  {
   "cell_type": "code",
   "execution_count": null,
   "metadata": {
    "pycharm": {
     "name": "#%%\n"
    }
   },
   "outputs": [],
   "source": [
    "<span style=\"color:red\"> NIG Loss formulas </span>."
   ]
  },
  {
   "cell_type": "markdown",
   "metadata": {
    "pycharm": {
     "name": "#%% md\n"
    }
   },
   "source": [
    "#### 3.1 - Training the 1D toy model <a class=\"anchor\" id=\"3.1\"></a>\n",
    "\n",
    "Following the descriptions of the evidential learning problem previously mentioned, the `EvidentialToyModel1D` is defined below. The model takes a one-dimensional input and forward it through a neural network that outputs the four parameters for the evidential distribution with their respective output activations. Though pilot runs were carried out using the architecture from Amini et al. (3 hidden layers with 100 neurons each) we use a simplified architecture of only one hidden layer as the regression task is rather simple. Design choices include initializing the weights using the Kaiming Normal method due to using the ReLU activation function as well as adding an epsilon to some of the outputted parameters (for numerical reasons when computing the loss)."
   ]
  },
  {
   "cell_type": "code",
   "execution_count": null,
   "metadata": {
    "pycharm": {
     "name": "#%%\n"
    }
   },
   "outputs": [],
   "source": [
    "# NIG Loss (IMPLEMENT ME!)"
   ]
  },
  {
   "cell_type": "markdown",
   "metadata": {
    "pycharm": {
     "name": "#%% md\n"
    }
   },
   "source": [
    "We use the Adam optimizer and hyperparameters specified in the cell below."
   ]
  },
  {
   "cell_type": "code",
   "execution_count": null,
   "metadata": {
    "pycharm": {
     "name": "#%%\n"
    }
   },
   "outputs": [],
   "source": [
    "from run import determine_run_version\n",
    "\n",
    "# TRAINING-RELATED PARAMETERS\n",
    "LR = 5e-3\n",
    "HIDDEN_DIM = 100\n",
    "LOSS_FUNCTION = 'NIGLoss'\n",
    "NIG_LAMBDA = 0.01\n",
    "EPOCHS = 625\n",
    "SEED = 0\n",
    "DEVICE = 'cuda'\n",
    "\n",
    "# EXPERIMENT-RELATED PARAMETERS\n",
    "VAL_EVERY_STEP = 5\n",
    "EXPERIMENT_VERSION = 'v1'\n",
    "EXPERIMENT_NAME = 'TOY1D'\n",
    "TENSORBOARD_LOGDIR = 'logs'\n",
    "SAVE_PATH = 'models'\n",
    "\n",
    "args = OmegaConf.create({\n",
    "    'experiment_name': f\"{EXPERIMENT_NAME}-{EXPERIMENT_VERSION}\",\n",
    "    'dataset': DATASET,\n",
    "    'batch_size': BATCH_SIZE,\n",
    "    'loss_function': LOSS_FUNCTION,\n",
    "    'NIG_lambda': NIG_LAMBDA,\n",
    "    'lr': LR,\n",
    "    'epochs': EPOCHS,\n",
    "    'seed': SEED,\n",
    "    'device': DEVICE,\n",
    "})"
   ]
  },
  {
   "cell_type": "markdown",
   "metadata": {
    "pycharm": {
     "name": "#%% md\n"
    }
   },
   "source": [
    "Now, training the model is straight-forward - just look below! The training loop is defined as a function which can be found in the file content/train.py and images revealing how aleatoric and epistemic uncertainties as well as values of the evidential parameters are distributed over the validation range, $x \\in [-6, 6]$, are saved and used for visualizations later on."
   ]
  },
  {
   "cell_type": "code",
   "execution_count": null,
   "metadata": {
    "pycharm": {
     "name": "#%%\n"
    }
   },
   "outputs": [],
   "source": [
    "from content.train import train\n",
    "\n",
    "# TRAINING-RELATED CLASSES\n",
    "model = EvidentialToyModel1D(hidden_dim=HIDDEN_DIM)\n",
    "model.to(torch.device(args.device))\n",
    "\n",
    "loss_function = NIGLoss(lambd_=NIG_LAMBDA)\n",
    "optimizer = torch.optim.Adam(model.parameters(), lr=LR)\n",
    "\n",
    "# Run training loop\n",
    "os.makedirs(f\"{SAVE_PATH}/{EXPERIMENT_NAME}-{EXPERIMENT_VERSION}\", exist_ok=True)\n",
    "model, best_epoch = train(dataloaders, model, optimizer, loss_function, epochs=EPOCHS,\n",
    "                          val_every_step=VAL_EVERY_STEP, experiment_name=f\"{EXPERIMENT_NAME}-{EXPERIMENT_VERSION}\",\n",
    "                          tensorboard_logdir=TENSORBOARD_LOGDIR, tensorboard_filename=determine_run_version(args),\n",
    "                          save_path=f\"{SAVE_PATH}/{EXPERIMENT_NAME}-{EXPERIMENT_VERSION}\")"
   ]
  },
  {
   "cell_type": "markdown",
   "metadata": {
    "pycharm": {
     "name": "#%% md\n"
    }
   },
   "source": []
  },
  {
   "cell_type": "code",
   "execution_count": null,
   "metadata": {
    "pycharm": {
     "name": "#%%\n"
    }
   },
   "outputs": [],
   "source": [
    "# load data - from repo (IMPLEMENT ME!)"
   ]
  },
  {
   "cell_type": "markdown",
   "metadata": {
    "pycharm": {
     "name": "#%% md\n"
    }
   },
   "source": [
    "#### 3.1 - Training the 1D toy model <a class=\"anchor\" id=\"3.1\"></a>"
   ]
  },
  {
   "cell_type": "code",
   "execution_count": null,
   "metadata": {
    "pycharm": {
     "name": "#%%\n"
    }
   },
   "outputs": [],
   "source": [
    "# code for model implementation (IMPLEMENT ME!)"
   ]
  },
  {
   "cell_type": "code",
   "execution_count": null,
   "metadata": {
    "pycharm": {
     "name": "#%%\n"
    }
   },
   "outputs": [],
   "source": [
    "# load training loop - from content (IMPLEMENT ME!)"
   ]
  },
  {
   "cell_type": "code",
   "execution_count": null,
   "metadata": {
    "pycharm": {
     "name": "#%%\n"
    }
   },
   "outputs": [],
   "source": []
  },
  {
   "cell_type": "code",
   "execution_count": null,
   "metadata": {
    "pycharm": {
     "name": "#%%\n"
    }
   },
   "outputs": [],
   "source": [
    "# CHECK THIS (IMPLEMENT ME!)\n",
    "%load_ext tensorboard\n",
    "%tensorboard --logdir logs"
   ]
  },
  {
   "cell_type": "code",
   "execution_count": null,
   "metadata": {
    "pycharm": {
     "name": "#%%\n"
    }
   },
   "outputs": [],
   "source": []
  },
  {
   "cell_type": "markdown",
   "metadata": {
    "pycharm": {
     "name": "#%% md\n"
    }
   },
   "source": [
    "#### 3.2 - Evaluating the 1D toy model <a class=\"anchor\" id=\"3.2\"></a>\n"
   ]
  },
  {
   "cell_type": "code",
   "execution_count": null,
   "metadata": {
    "pycharm": {
     "name": "#%%\n"
    }
   },
   "outputs": [],
   "source": [
    "# code for evaluation here - produce table and calibration plots (IMPLEMENT ME!)"
   ]
  },
  {
   "cell_type": "markdown",
   "metadata": {
    "pycharm": {
     "name": "#%% md\n"
    }
   },
   "source": [
    "##### 3.2.1 - Out-of-Distribution performance"
   ]
  },
  {
   "cell_type": "code",
   "execution_count": null,
   "metadata": {
    "pycharm": {
     "name": "#%%\n"
    }
   },
   "outputs": [],
   "source": [
    "# code for doing a stratified evaluation on OOD data - table and calibration plots (IMPLEMENT ME!)"
   ]
  },
  {
   "cell_type": "markdown",
   "metadata": {
    "pycharm": {
     "name": "#%% md\n"
    }
   },
   "source": [
    "### 4. Modeling graph-structured data - introducing Message-Passing Neural Networks <a class=\"anchor\" id=\"4\"></a>\n",
    "\n",
    "<span style=\"color:red\"> Describe problem setup and how data is created </span>\n"
   ]
  },
  {
   "cell_type": "code",
   "execution_count": 1,
   "metadata": {},
   "outputs": [],
   "source": [
    "import torch\n",
    "import os"
   ]
  },
  {
   "cell_type": "code",
   "execution_count": 2,
   "metadata": {
    "pycharm": {
     "name": "#%%\n"
    }
   },
   "outputs": [],
   "source": [
    "class EvidentialGNN3D(torch.nn.Module):\n",
    "    \"\"\"Translation and rotation invariant graph neural network.\n",
    "\n",
    "    Keyword Arguments\n",
    "    -----------------\n",
    "        output_dim : Dimension of output (default 2)\n",
    "        state_dim : Dimension of the node states (default 10)\n",
    "        num_message_passing_rounds : Number of message passing rounds\n",
    "            (default 3)\n",
    "    \"\"\"\n",
    "\n",
    "    def __init__(self, device, state_dim=10, num_message_passing_rounds=3, eps=1e-10):\n",
    "        super().__init__()\n",
    "        self.model_type = 'evidential'\n",
    "\n",
    "        # Set input dimensions and other hyperparameters\n",
    "        self.state_dim = state_dim\n",
    "        self.num_message_passing_rounds = num_message_passing_rounds\n",
    "\n",
    "        # Define locked parameters\n",
    "        self.edge_dim = 1\n",
    "        self.output_dim = 4\n",
    "        self.num_features = 4\n",
    "        self.hidden_dim = 100\n",
    "\n",
    "        self.message_net = torch.nn.Sequential(\n",
    "            torch.nn.BatchNorm1d(self.state_dim + self.num_features).double(),\n",
    "            torch.nn.Linear(self.state_dim + self.num_features, self.hidden_dim).double(),\n",
    "            torch.nn.Dropout(0.5),\n",
    "            torch.nn.Tanh(),\n",
    "            torch.nn.Linear(self.hidden_dim, self.hidden_dim).double(),\n",
    "            torch.nn.Dropout(0.5),\n",
    "            torch.nn.Tanh(),\n",
    "            torch.nn.Linear(self.hidden_dim, self.hidden_dim).double(),\n",
    "            torch.nn.Dropout(0.5),\n",
    "            torch.nn.Tanh(),\n",
    "            torch.nn.Linear(self.hidden_dim, self.state_dim).double(),\n",
    "            torch.nn.Dropout(0.5),\n",
    "            torch.nn.Tanh(),\n",
    "        )\n",
    "\n",
    "        # Output net\n",
    "        self.output_net = torch.nn.Sequential(\n",
    "            torch.nn.Linear(self.state_dim, self.output_dim).double() # (gamma, v, alpha, beta)\n",
    "        )\n",
    "\n",
    "        # Initialize weights\n",
    "        self.message_net.apply(self.init_weights)\n",
    "        self.output_net.apply(self.init_weights)\n",
    "\n",
    "        # Speficy activation functions\n",
    "        self.softplus = torch.nn.Softplus()\n",
    "\n",
    "        # Utilize GPU? #TODO: move this out of the class itself and into the run-script\n",
    "        self.device = device\n",
    "        self.eps = eps\n",
    "        self.to(device)\n",
    "          \n",
    "    def init_weights(self, layer): # Found here: https://www.askpython.com/python-modules/initialize-model-weights-pytorch\n",
    "        if type(layer) == torch.nn.Linear:\n",
    "            torch.nn.init.kaiming_normal_(layer.weight, mode='fan_out', nonlinearity='relu').double() # Kaiming for Relu\n",
    "    \n",
    "\n",
    "    def forward(self, x):\n",
    "        \"\"\"Evaluate neural network on a batch of graphs.\n",
    "\n",
    "        Parameters\n",
    "        ----------\n",
    "        x: GraphDataset\n",
    "            A data set object that contains the following member variables:\n",
    "\n",
    "            node_coordinates : torch.tensor (N x 2)\n",
    "                2d coordinates for each of the N nodes in all graphs\n",
    "            node_graph_index : torch.tensor (N)\n",
    "                Index of which graph each node belongs to\n",
    "            edge_list : torch.tensor (E x 2)\n",
    "                Edges (to-node, from-node) in all graphs\n",
    "            node_to, node_from : Shorthand for column 0 and 1 in edge_list\n",
    "            edge_lengths : torch.tensor (E)\n",
    "                Edge features\n",
    "\n",
    "        Returns\n",
    "        -------\n",
    "        out : N x output_dim\n",
    "            Neural network output\n",
    "\n",
    "        \"\"\"\n",
    "        # Initialize node features to zeros\n",
    "        self.state = torch.zeros([x.num_nodes, self.state_dim]).to(self.device).double()\n",
    "\n",
    "        # Loop over message passing rounds\n",
    "        for _ in range(self.num_message_passing_rounds):\n",
    "            # Preparing features\n",
    "            e_len = x.edge_lengths\n",
    "            coord_difference = torch.sum(torch.abs(x.node_coordinates[x.node_from] - x.node_coordinates[x.node_to]), axis=1)\n",
    "            dot_coord = dot3D(x.node_coordinates[x.node_from], x.node_coordinates[x.node_to]).view(x.edge_lengths.shape)\n",
    "            dot_diff = dot3D((x.node_coordinates[x.node_from] - x.node_coordinates[x.node_to]), x.edge_vectors).view(x.edge_lengths.shape)\n",
    "\n",
    "            # Stacking features\n",
    "            inp = torch.cat((self.state[x.node_from], \n",
    "                            e_len, \n",
    "                            coord_difference.view(e_len.shape),\n",
    "                            dot_coord.view(e_len.shape),\n",
    "                            dot_diff.view(e_len.shape),\n",
    "                            ), 1)\n",
    "\n",
    "            message = self.message_net(inp)\n",
    "\n",
    "            if int(sum(sum(torch.isnan(message)))) > 0:\n",
    "                stop = 1\n",
    "\n",
    "            # Aggregate: Sum messages\n",
    "            self.state.index_add_(0, x.node_to, message)\n",
    "        # Aggretate: Sum node features\n",
    "        self.graph_state = torch.zeros((x.num_graphs, self.state_dim)).to(self.device).double()\n",
    "        self.graph_state.index_add_(0, x.node_graph_index, self.state)\n",
    "\n",
    "        # Get parameters of NIG distribution (4-dimensional output)\n",
    "        evidential_params_ = self.output_net(self.graph_state) # (gamma, v, alpha, beta)\n",
    "        # Apply activations as specified after Equation 10 in the paper\n",
    "        gamma, v, alpha, beta = torch.tensor_split(evidential_params_, 4, axis=1)\n",
    "        out = torch.concat([gamma, self.softplus(v) + self.eps, self.softplus(alpha).add(1.0).to(torch.float64) + self.eps, self.softplus(beta) + self.eps], axis=1)\n",
    "        return out\n",
    "\n",
    "class BaselineGNN3D(torch.nn.Module):\n",
    "    \"\"\"Translation and rotation invariant graph neural network.\n",
    "\n",
    "        Keyword Arguments\n",
    "        -----------------\n",
    "            output_dim : Dimension of output (default 2)\n",
    "            state_dim : Dimension of the node states (default 10)\n",
    "            num_message_passing_rounds : Number of message passing rounds\n",
    "                (default 3)\n",
    "        \"\"\"\n",
    "\n",
    "    def __init__(self, device, state_dim=100, num_message_passing_rounds=3):\n",
    "        super().__init__()\n",
    "        self.model_type = 'baseline'\n",
    "\n",
    "        # Set input dimensions and other hyperparameters\n",
    "        self.state_dim = state_dim\n",
    "        self.num_message_passing_rounds = num_message_passing_rounds\n",
    "\n",
    "        # Define locked parameters\n",
    "        self.edge_dim = 1\n",
    "        self.output_dim = 2\n",
    "        self.num_features = 4\n",
    "        self.hidden_dim = 100\n",
    "\n",
    "        # Message passing networks\n",
    "        self.message_net = torch.nn.Sequential(\n",
    "            torch.nn.BatchNorm1d(self.state_dim + self.num_features).double(),\n",
    "            torch.nn.Linear(self.state_dim + self.num_features, self.hidden_dim).double(),\n",
    "            torch.nn.Dropout(0.5),\n",
    "            torch.nn.Tanh(),\n",
    "            torch.nn.Linear(self.hidden_dim, self.hidden_dim).double(),\n",
    "            torch.nn.Dropout(0.5),\n",
    "            torch.nn.Tanh(),\n",
    "            torch.nn.Linear(self.hidden_dim, self.hidden_dim).double(),\n",
    "            torch.nn.Dropout(0.5),\n",
    "            torch.nn.Tanh(),\n",
    "            torch.nn.Linear(self.hidden_dim, self.state_dim).double(),\n",
    "            torch.nn.Dropout(0.5),\n",
    "            torch.nn.Tanh(),\n",
    "        )\n",
    "\n",
    "        # Output net\n",
    "        self.output_net = torch.nn.Sequential(\n",
    "            torch.nn.Linear(self.state_dim, self.output_dim).double()  # (gamma, v, alpha, beta)\n",
    "        )\n",
    "\n",
    "        # Initialize weights\n",
    "        self.message_net.apply(self.init_weights)\n",
    "        self.output_net.apply(self.init_weights)\n",
    "\n",
    "        # Speficy activation functions\n",
    "        self.softplus = torch.nn.Softplus()\n",
    "\n",
    "        # Utilize GPU? #TODO: move this out of the class itself and into the run-script\n",
    "        self.device = device\n",
    "        self.to(device)\n",
    "\n",
    "    def init_weights(self,\n",
    "                     layer):  # Found here: https://www.askpython.com/python-modules/initialize-model-weights-pytorch\n",
    "        if type(layer) == torch.nn.Linear:\n",
    "            torch.nn.init.kaiming_normal_(layer.weight, mode='fan_out',\n",
    "                                          nonlinearity='relu').double()  # Kaiming for Relu\n",
    "\n",
    "    def forward(self, x):\n",
    "        \"\"\"Evaluate neural network on a batch of graphs.\n",
    "\n",
    "        Parameters\n",
    "        ----------\n",
    "        x: GraphDataset\n",
    "            A data set object that contains the following member variables:\n",
    "\n",
    "            node_coordinates : torch.tensor (N x 2)\n",
    "                2d coordinates for each of the N nodes in all graphs\n",
    "            node_graph_index : torch.tensor (N)\n",
    "                Index of which graph each node belongs to\n",
    "            edge_list : torch.tensor (E x 2)\n",
    "                Edges (to-node, from-node) in all graphs\n",
    "            node_to, node_from : Shorthand for column 0 and 1 in edge_list\n",
    "            edge_lengths : torch.tensor (E)\n",
    "                Edge features\n",
    "\n",
    "        Returns\n",
    "        -------\n",
    "        out : N x output_dim\n",
    "            Neural network output\n",
    "\n",
    "        \"\"\"\n",
    "        # Initialize node features to zeros\n",
    "        self.state = torch.zeros([x.num_nodes, self.state_dim]).double().to(self.device)\n",
    "\n",
    "        # Loop over message passing rounds\n",
    "        for _ in range(self.num_message_passing_rounds):\n",
    "            e_len = x.edge_lengths\n",
    "            coord_difference = torch.sum(torch.abs(x.node_coordinates[x.node_from] - x.node_coordinates[x.node_to]),\n",
    "                                         axis=1)\n",
    "            dot_coord = dot3D(x.node_coordinates[x.node_from], x.node_coordinates[x.node_to]).view(x.edge_lengths.shape)\n",
    "            dot_diff = dot3D((x.node_coordinates[x.node_from] - x.node_coordinates[x.node_to]), x.edge_vectors).view(\n",
    "                x.edge_lengths.shape)\n",
    "\n",
    "            # Stacking features\n",
    "            inp = torch.cat((self.state[x.node_from],\n",
    "                             e_len,\n",
    "                             coord_difference.view(e_len.shape),\n",
    "                             dot_coord.view(e_len.shape),\n",
    "                             dot_diff.view(e_len.shape),\n",
    "                             ), 1)\n",
    "            message = self.message_net(inp)\n",
    "\n",
    "            # Aggregate: Sum messages\n",
    "            self.state.index_add_(0, x.node_to, message)\n",
    "\n",
    "        # Aggretate: Sum node features\n",
    "        self.graph_state = torch.zeros((x.num_graphs, self.state_dim)).double().to(self.device)\n",
    "        self.graph_state.index_add_(0, x.node_graph_index, self.state)\n",
    "\n",
    "        # Get parameters of NIG distribution (4-dimensional output)\n",
    "        evidential_params_ = self.output_net(self.graph_state)  # (gamma, v, alpha, beta)\n",
    "        # Apply activations as specified after Equation 10 in the paper\n",
    "        mu, sigma = torch.tensor_split(evidential_params_, 2, axis=1)\n",
    "        out = torch.concat([mu, self.softplus(sigma)], axis=1)\n",
    "        return out\n",
    "\n",
    "def cross2D(v1, v2):\n",
    "    \"\"\"Compute the 2-d cross product.\n",
    "\n",
    "    Parameters\n",
    "    ----------\n",
    "    v1, v2 : Array\n",
    "        Arrays (shape Nx2) containing N 2-d vectors\n",
    "\n",
    "    Returns\n",
    "    -------\n",
    "    Array\n",
    "        Array (shape N) containing the cross products\n",
    "\n",
    "    \"\"\"\n",
    "    return v1[:, 0] * v2[:, 1] - v1[:, 1] * v2[:, 0]\n",
    "\n",
    "def dot3D(v1, v2):\n",
    "    \"\"\"Compute the 2-d dot product.\n",
    "\n",
    "    Parameters\n",
    "    ----------\n",
    "    v1, v2 : Array\n",
    "        Arrays (Nx2) containing N 3-d vectors\n",
    "\n",
    "    Returns\n",
    "    -------\n",
    "    Array\n",
    "        Array (shape N) containing the dot products\n",
    "\n",
    "    \"\"\"\n",
    "    return v1[:, 0] * v2[:, 0] + v1[:, 1] * v2[:, 1] + v1[:, 2] * v2[:, 2]\n",
    "\n",
    "\n"
   ]
  },
  {
   "cell_type": "markdown",
   "metadata": {
    "pycharm": {
     "name": "#%% md\n"
    }
   },
   "source": [
    "#### 4.1 Restricting the feature space - invariance matters! <a class=\"anchor\" id=\"4.1\"></a>\n",
    "\n",
    "<span style=\"color:red\"> The concept of invariance! Why does it matter? </span>\n"
   ]
  },
  {
   "cell_type": "markdown",
   "metadata": {
    "pycharm": {
     "name": "#%% md\n"
    }
   },
   "source": [
    "#### 4.2 - Defining the synthetic setup <a class=\"anchor\" id=\"4.2\"></a>"
   ]
  },
  {
   "cell_type": "markdown",
   "metadata": {
    "pycharm": {
     "name": "#%% md\n"
    }
   },
   "source": [
    "In order to validate that our model works, we evaluate the model on synthetically generated data. We create the data by sampling atoms in a vector space. We use sklearn's \"make_blobs\" to sample these atoms. It works by defining finite a 3D coordinate system, for instance by defining a box between -5 and 5 on all three axes. In this box, we sample $n$ clusters at random. An atom is then sampled from a gaussian distribution with mean at a cluster point and standard deviation of 0.1. This way, we get $n$ atoms in our sampled molecule.\n",
    "\n",
    "The distance between these atoms are now computed and given as edge weights in the fully connected graph that defines the molecule. The value used for prediction is retrieved by computing the force between molecules based on this force function:\n",
    "\n",
    "$$\n",
    "U(x) = \\frac{a}{x^{12}} - \\frac{b}{x^6}\n",
    "$$\n",
    "\n",
    "Where $a$ and $b$ are constants that we set to $a=500000$ and $b=4000$. We did this in order to make sure that we could get data with distances that would return different force-values (U(x)). The formula itself was found [here](https://www.toppr.com/ask/question/the-potential-energy-function-for-the-force-between-two-atoms/). The important part of this formula is that it is non-linear (see the next figure). In order for our loss not to get out of hand, we cap $U(x)$ at 1000; if $U(x)>1000$, $U(x)=1000$."
   ]
  },
  {
   "cell_type": "code",
   "execution_count": 3,
   "metadata": {},
   "outputs": [
    {
     "data": {
      "image/png": "[encoded data removed]",
      "text/plain": [
       "<Figure size 800x600 with 1 Axes>"
      ]
     },
     "metadata": {
      "needs_background": "light"
     },
     "output_type": "display_data"
    }
   ],
   "source": [
    "from content.plot_force_function import plot_gg\n",
    "from content.synthetic_data_generation import U\n",
    "import numpy as np\n",
    "import matplotlib.pyplot as plt\n",
    "\n",
    "x = np.arange(0.1,10,0.01)\n",
    "y = np.array([U(xi) for xi in x])\n",
    "\n",
    "plt.figure(figsize=(8,6),dpi=100)\n",
    "plot_gg(x,y)"
   ]
  },
  {
   "cell_type": "markdown",
   "metadata": {},
   "source": [
    "What is interesting about the synthetic data is that we know all about the environment and how it should behave. Therefore, we can create data that is out of distribution (OOD) while knowing nothing about chemistry - which would be required to do the same thing on real molecular data!\n",
    "\n",
    "We create three synthetic datasets. The only difference between them is the finite box of sampled atoms mentioned earlier. We call this the centerbox, and they are the following:\n",
    "\n",
    "- One dataset with a centerbox-span from -0.5 to 0.5\n",
    "- One with a centerbox-span from -2 to 2\n",
    "- And finally one with a span from -10 to 10\n",
    "\n",
    "Their mean distances and standard deviation of these can be seen below:\n",
    "\n",
    "\n",
    "NEED TO UPDATE PLOT!"
   ]
  },
  {
   "cell_type": "code",
   "execution_count": 4,
   "metadata": {},
   "outputs": [
    {
     "data": {
      "image/png": "[encoded data removed]",
      "text/plain": [
       "<Figure size 800x600 with 1 Axes>"
      ]
     },
     "metadata": {},
     "output_type": "display_data"
    }
   ],
   "source": [
    "from content.plot_force_function import plot_gg_mstd\n",
    "x = np.arange(0.1,20,0.1)\n",
    "y = np.array([U(xi) for xi in x])\n",
    "plt.figure(figsize=(8,6),dpi=100)\n",
    "plot_gg_mstd(x,y)"
   ]
  },
  {
   "cell_type": "markdown",
   "metadata": {},
   "source": [
    "The vertical lines are the mean of the distances in the dataset and the span around the lines is the standard deviation. One should note here that there is a small overlap between min and max of the distinct datasets, however, we argue that it is still possible to keep them separate and say that these are from distinct and different distributions due to the fact that the sampled overlaps are few and can be classified as outliers in the distributions."
   ]
  },
  {
   "cell_type": "markdown",
   "metadata": {},
   "source": [
    "#### 4.3 - Training the synthetic 3D model <a class=\"anchor\" id=\"4.3\"></a>"
   ]
  },
  {
   "cell_type": "code",
   "execution_count": 5,
   "metadata": {},
   "outputs": [],
   "source": [
    "#Should be run in Albert's part:\n",
    "class NIGLoss:\n",
    "    def __init__(self, lambd_) -> None:\n",
    "        self.lambd_ = lambd_\n",
    "\n",
    "    def __call__(self, evidential_params_, y):\n",
    "        \"\"\"\n",
    "        Forward pass through the NIGLoss function.\n",
    "        \n",
    "        Parameters\n",
    "        ----------\n",
    "        evidential_params_: parameters of the evidential distribution (shape: batch_size x 4)\n",
    "        y: target attribute of the regression task (shape: batch_size x 1)\n",
    "\n",
    "        Returns\n",
    "        -------\n",
    "        A tuple of the total loss as well as a dictionary of \"extra\" losses / subparts of the total loss.\n",
    "        ('Loss', total_loss), {'NLL': nll_loss, 'REG': reg_loss, 'RMSE': rmse_loss}\n",
    "        \n",
    "        \"\"\"\n",
    "        # Separate the evidential parameters\n",
    "        self.gamma, self.nu, self.alpha, self.beta = evidential_params_[:, 0].reshape(-1, 1), \\\n",
    "                                                     evidential_params_[:, 1].reshape(-1, 1), \\\n",
    "                                                     evidential_params_[:, 2].reshape(-1, 1), \\\n",
    "                                                     evidential_params_[:, 3].reshape(-1, 1)\n",
    "\n",
    "        # Compute NLL and regularization losses\n",
    "        nll_loss = self.NIG_NLL(y)\n",
    "        reg_loss = self.NIG_REGULARIZER(y)\n",
    "        # Compute total loss\n",
    "        total_loss = nll_loss + (self.lambd_ * reg_loss)\n",
    "        return ('Loss', total_loss.mean()), {'NLL': nll_loss.mean(), 'REG': reg_loss.mean(), 'RMSE': torch.sqrt(torch.mean((self.gamma - y)**2))}\n",
    "\n",
    "    def NIG_NLL(self, y):\n",
    "        \"\"\"\n",
    "        Computes negative log-likelihood of the NIG distribution for a regression target, y. Maximizes model fit.\n",
    "        Implementation follows Equation 8 in this paper (https://arxiv.org/pdf/1910.02600.pdf)\n",
    "        \n",
    "        \"\"\"\n",
    "        omega = 2 * self.beta * (1 + self.nu)\n",
    "        nll = 0.5 * torch.log(torch.pi / (self.nu)) \\\n",
    "              - self.alpha * torch.log(omega) \\\n",
    "              + (self.alpha + 0.5) * torch.log((y-self.gamma)**2 * self.nu + omega) \\\n",
    "              + torch.lgamma(self.alpha) - torch.lgamma(self.alpha + 0.5)\n",
    "        return nll\n",
    "\n",
    "    def NIG_REGULARIZER(self, y):\n",
    "        \"\"\"\n",
    "        Computes regularizing loss on the NIG distribution for a regression target, y. Minimizes evidence on errors by\n",
    "        scaling the error with the total evidence of the infered posterior. \n",
    "        Implementation follows Equation 9 in this paper (https://arxiv.org/pdf/1910.02600.pdf)\n",
    "        \n",
    "        \"\"\"\n",
    "        return abs(y - self.gamma) * (2*self.nu + self.alpha)\n"
   ]
  },
  {
   "cell_type": "code",
   "execution_count": 10,
   "metadata": {},
   "outputs": [],
   "source": [
    "from torch.nn import GaussianNLLLoss\n",
    "class GAUSSIANNLLLoss:\n",
    "    def __init__(self, l=0) -> None:\n",
    "        self.l=0\n",
    "        pass\n",
    "\n",
    "    def __call__(self, theta, y):\n",
    "        self.mu = theta[:,0].reshape(-1,1)\n",
    "        self.sigma = theta[:, 1].reshape(-1, 1)\n",
    "\n",
    "        # Compute loss\n",
    "        loss = GaussianNLLLoss()\n",
    "        nll_loss = loss(input=self.mu, target=y, var=self.sigma)\n",
    "        return ('GAUSSIANNLL', torch.sqrt(nll_loss.mean())), {}"
   ]
  },
  {
   "cell_type": "markdown",
   "metadata": {},
   "source": [
    "In order to train the models on the synthetic data set, we need to load the dataset to be trained on. The data we will be training on is the green span seen above; center box from -2 to 2."
   ]
  },
  {
   "cell_type": "code",
   "execution_count": 7,
   "metadata": {},
   "outputs": [
    {
     "name": "stdout",
     "output_type": "stream",
     "text": [
      "\n",
      "CREATING DATALOADER OBJECTS...\n",
      "\n",
      "SUCCESSFULLY CREATED AND SAVED DATALOADER OBJECTS!\n",
      "Loaded toy dataset!\n",
      "Dataset types available: ['train', 'val', 'test']\n"
     ]
    }
   ],
   "source": [
    "from content.modules.utils import load_data\n",
    "from omegaconf import OmegaConf\n",
    "\n",
    "# Specify arguments for the load_data function\n",
    "DATA_DIR = f'content/data'\n",
    "DATASET = 'SYNTHETIC3'\n",
    "BATCH_SIZE = 128\n",
    "DEVICE ='cpu'\n",
    "SEED = 0\n",
    "\n",
    "# Create configuration dictionary\n",
    "args = OmegaConf.create({'data_dir': DATA_DIR, 'dataset': DATASET,\n",
    "                         'batch_size': BATCH_SIZE, 'device': DEVICE, 'seed': SEED})\n",
    "\n",
    "# Create dataloaders\n",
    "dataloaders = load_data(args)\n",
    "print(f\"Loaded toy dataset!\\nDataset types available: {[type_ for type_ in dataloaders.keys() if dataloaders[type_] != None]}\")"
   ]
  },
  {
   "cell_type": "markdown",
   "metadata": {},
   "source": [
    "Now we run both the Evidential GNN and our Gaussian MLE baseline on SYNTHETIC2 (center box = -2,2)."
   ]
  },
  {
   "cell_type": "code",
   "execution_count": 9,
   "metadata": {},
   "outputs": [],
   "source": [
    "from run import determine_run_version\n",
    "\n",
    "args = OmegaConf.create({})\n",
    "\n",
    "# TRAINING-RELATED PARAMETERS\n",
    "state_dim = 100\n",
    "args.lr = LR = 5e-3\n",
    "args.loss_function = LOSS_FUNCTION = 'NIGLoss'\n",
    "args.epochs = EPOCHS = 1000\n",
    "args.seed = SEED = 2\n",
    "args.device = DEVICE = 'cpu'\n",
    "\n",
    "# EXPERIMENT-RELATED PARAMETERS\n",
    "VAL_EVERY_STEP = 5\n",
    "EXPERIMENT_NAME = 'EviGNN_SYNTHETIC3_-3lr_10stdim'\n",
    "args.tensorboard_logdir = TENSORBOARD_LOGDIR = 'logs'\n",
    "args.save_path = SAVE_PATH = 'models'\n",
    "\n",
    "# DATASET\n",
    "args.batch_size = BATCH_SIZE\n",
    "args.dataset = DATASET"
   ]
  },
  {
   "cell_type": "code",
   "execution_count": 10,
   "metadata": {},
   "outputs": [
    {
     "name": "stderr",
     "output_type": "stream",
     "text": [
      "Training Loss: 4.886 \t| \t Validation Loss: 4.793 | Progress: 100%|██████████| 1000/1000 [04:06<00:00,  4.05it/s]"
     ]
    },
    {
     "name": "stdout",
     "output_type": "stream",
     "text": [
      "\n",
      "EPOCH 955 --> BEST CHECKPOINT SAVED!\t Validation Loss: 4.686631173926765\n"
     ]
    },
    {
     "name": "stderr",
     "output_type": "stream",
     "text": [
      "\n"
     ]
    }
   ],
   "source": [
    "from content.train import train\n",
    "\n",
    "best_epochs = {}\n",
    "\n",
    "args.NIG_lambda = NIG_LAMBDA = 0.01\n",
    "EXPERIMENT_VERSION = f'lambda{NIG_LAMBDA}'\n",
    "args.experiment_name = f\"{EXPERIMENT_NAME}-{EXPERIMENT_VERSION}\"\n",
    "\n",
    "# TRAINING-RELATED CLASSES\n",
    "model = EvidentialGNN3D(device=args.device,state_dim=state_dim)\n",
    "model.to(torch.device(args.device))\n",
    "\n",
    "loss_function = NIGLoss(lambd_=NIG_LAMBDA)\n",
    "optimizer = torch.optim.Adam(model.parameters(), lr=LR)\n",
    "\n",
    "# Run training loop\n",
    "os.makedirs(f\"{SAVE_PATH}/{EXPERIMENT_NAME}-{EXPERIMENT_VERSION}\")\n",
    "model, best_epoch = train(dataloaders, model, optimizer, loss_function, epochs=EPOCHS,\n",
    "                          val_every_step=VAL_EVERY_STEP, experiment_name=f\"{EXPERIMENT_NAME}-{EXPERIMENT_VERSION}\",\n",
    "                          tensorboard_logdir=TENSORBOARD_LOGDIR, tensorboard_filename=determine_run_version(args),\n",
    "                          save_path=f\"{SAVE_PATH}/{EXPERIMENT_NAME}-{EXPERIMENT_VERSION}\")\n",
    "best_epochs[NIG_LAMBDA] = best_epoch"
   ]
  },
  {
   "cell_type": "code",
   "execution_count": 11,
   "metadata": {},
   "outputs": [],
   "source": [
    "from run import determine_run_version\n",
    "\n",
    "args = OmegaConf.create({})\n",
    "\n",
    "# TRAINING-RELATED PARAMETERS\n",
    "state_dim = 500\n",
    "args.lr = LR = 5e-2\n",
    "args.loss_function = LOSS_FUNCTION = \"GAUSSIANNLL\"\n",
    "args.epochs = EPOCHS = 1000\n",
    "args.seed = SEED = 2\n",
    "args.device = DEVICE = 'cpu'\n",
    "args.model = 'BASE3D'\n",
    "\n",
    "# EXPERIMENT-RELATED PARAMETERS\n",
    "VAL_EVERY_STEP = 5\n",
    "EXPERIMENT_NAME = 'BaseGNN_SYNTHETIC3_-2lr_500stdim'\n",
    "args.tensorboard_logdir = TENSORBOARD_LOGDIR = 'logs'\n",
    "args.save_path = SAVE_PATH = 'models'\n",
    "\n",
    "# DATASET\n",
    "args.batch_size = BATCH_SIZE\n",
    "args.dataset = DATASET"
   ]
  },
  {
   "cell_type": "code",
   "execution_count": 13,
   "metadata": {},
   "outputs": [
    {
     "name": "stderr",
     "output_type": "stream",
     "text": [
      "  0%|          | 0/1000 [00:00<?, ?it/s]\n"
     ]
    },
    {
     "ename": "UnboundLocalError",
     "evalue": "local variable 'loss_name' referenced before assignment",
     "output_type": "error",
     "traceback": [
      "\u001b[0;31m---------------------------------------------------------------------------\u001b[0m",
      "\u001b[0;31mUnboundLocalError\u001b[0m                         Traceback (most recent call last)",
      "\u001b[0;32m<ipython-input-13-770ad816ac8d>\u001b[0m in \u001b[0;36m<module>\u001b[0;34m\u001b[0m\n\u001b[1;32m     16\u001b[0m \u001b[0;31m# Run training loop\u001b[0m\u001b[0;34m\u001b[0m\u001b[0;34m\u001b[0m\u001b[0;34m\u001b[0m\u001b[0m\n\u001b[1;32m     17\u001b[0m \u001b[0mos\u001b[0m\u001b[0;34m.\u001b[0m\u001b[0mmakedirs\u001b[0m\u001b[0;34m(\u001b[0m\u001b[0;34mf\"{SAVE_PATH}/{EXPERIMENT_NAME}\"\u001b[0m\u001b[0;34m)\u001b[0m\u001b[0;34m\u001b[0m\u001b[0;34m\u001b[0m\u001b[0m\n\u001b[0;32m---> 18\u001b[0;31m model, best_epoch = train(dataloaders, model, optimizer, loss_function, epochs=EPOCHS,\n\u001b[0m\u001b[1;32m     19\u001b[0m                           \u001b[0mval_every_step\u001b[0m\u001b[0;34m=\u001b[0m\u001b[0mVAL_EVERY_STEP\u001b[0m\u001b[0;34m,\u001b[0m \u001b[0mexperiment_name\u001b[0m\u001b[0;34m=\u001b[0m\u001b[0;34mf\"{EXPERIMENT_NAME}\"\u001b[0m\u001b[0;34m,\u001b[0m\u001b[0;34m\u001b[0m\u001b[0;34m\u001b[0m\u001b[0m\n\u001b[1;32m     20\u001b[0m                           \u001b[0mtensorboard_logdir\u001b[0m\u001b[0;34m=\u001b[0m\u001b[0mTENSORBOARD_LOGDIR\u001b[0m\u001b[0;34m,\u001b[0m \u001b[0mtensorboard_filename\u001b[0m\u001b[0;34m=\u001b[0m\u001b[0mdetermine_run_version\u001b[0m\u001b[0;34m(\u001b[0m\u001b[0margs\u001b[0m\u001b[0;34m)\u001b[0m\u001b[0;34m,\u001b[0m\u001b[0;34m\u001b[0m\u001b[0;34m\u001b[0m\u001b[0m\n",
      "\u001b[0;32m~/Desktop/AI_Master/deep_learning/uq-gnn/content/train.py\u001b[0m in \u001b[0;36mtrain\u001b[0;34m(dataloaders, model, optimizer, loss_function, epochs, val_every_step, experiment_name, tensorboard_logdir, tensorboard_filename, save_path)\u001b[0m\n\u001b[1;32m     37\u001b[0m                     \u001b[0mmodel\u001b[0m\u001b[0;34m.\u001b[0m\u001b[0meval\u001b[0m\u001b[0;34m(\u001b[0m\u001b[0;34m)\u001b[0m\u001b[0;34m\u001b[0m\u001b[0;34m\u001b[0m\u001b[0m\n\u001b[1;32m     38\u001b[0m                     \u001b[0;31m# Evaluate on validation batch\u001b[0m\u001b[0;34m\u001b[0m\u001b[0;34m\u001b[0m\u001b[0;34m\u001b[0m\u001b[0m\n\u001b[0;32m---> 39\u001b[0;31m                     \u001b[0mval_loss\u001b[0m \u001b[0;34m=\u001b[0m \u001b[0mevaluate\u001b[0m\u001b[0;34m(\u001b[0m\u001b[0mmodel\u001b[0m\u001b[0;34m,\u001b[0m \u001b[0mval_loader\u001b[0m\u001b[0;34m,\u001b[0m \u001b[0mwriter\u001b[0m\u001b[0;34m,\u001b[0m \u001b[0mepoch\u001b[0m\u001b[0;34m,\u001b[0m \u001b[0mloss_function\u001b[0m\u001b[0;34m,\u001b[0m \u001b[0mexperiment_name\u001b[0m\u001b[0;34m)\u001b[0m\u001b[0;34m\u001b[0m\u001b[0;34m\u001b[0m\u001b[0m\n\u001b[0m\u001b[1;32m     40\u001b[0m \u001b[0;34m\u001b[0m\u001b[0m\n\u001b[1;32m     41\u001b[0m                     \u001b[0;31m# Save best model on validation set\u001b[0m\u001b[0;34m\u001b[0m\u001b[0;34m\u001b[0m\u001b[0;34m\u001b[0m\u001b[0m\n",
      "\u001b[0;32m~/Desktop/AI_Master/deep_learning/uq-gnn/content/train.py\u001b[0m in \u001b[0;36mevaluate\u001b[0;34m(model, data, writer, epoch, loss_function, experiment_name)\u001b[0m\n\u001b[1;32m    130\u001b[0m             \u001b[0mbatch_loss\u001b[0m\u001b[0;34m.\u001b[0m\u001b[0mappend\u001b[0m\u001b[0;34m(\u001b[0m\u001b[0mloss\u001b[0m\u001b[0;34m.\u001b[0m\u001b[0mitem\u001b[0m\u001b[0;34m(\u001b[0m\u001b[0;34m)\u001b[0m\u001b[0;34m)\u001b[0m\u001b[0;34m\u001b[0m\u001b[0;34m\u001b[0m\u001b[0m\n\u001b[1;32m    131\u001b[0m         \u001b[0mloss\u001b[0m \u001b[0;34m=\u001b[0m \u001b[0mnp\u001b[0m\u001b[0;34m.\u001b[0m\u001b[0mmean\u001b[0m\u001b[0;34m(\u001b[0m\u001b[0mbatch_loss\u001b[0m\u001b[0;34m)\u001b[0m\u001b[0;34m\u001b[0m\u001b[0;34m\u001b[0m\u001b[0m\n\u001b[0;32m--> 132\u001b[0;31m         \u001b[0mwriter\u001b[0m\u001b[0;34m.\u001b[0m\u001b[0madd_scalar\u001b[0m\u001b[0;34m(\u001b[0m\u001b[0;34mf'VALIDATION/{loss_name}'\u001b[0m\u001b[0;34m,\u001b[0m \u001b[0mloss\u001b[0m\u001b[0;34m,\u001b[0m \u001b[0mepoch\u001b[0m\u001b[0;34m)\u001b[0m\u001b[0;34m\u001b[0m\u001b[0;34m\u001b[0m\u001b[0m\n\u001b[0m\u001b[1;32m    133\u001b[0m         \u001b[0;32mif\u001b[0m \u001b[0mloss_function\u001b[0m\u001b[0;34m.\u001b[0m\u001b[0m__class__\u001b[0m\u001b[0;34m.\u001b[0m\u001b[0m__name__\u001b[0m \u001b[0;34m==\u001b[0m \u001b[0;34m\"NIGLoss\"\u001b[0m\u001b[0;34m:\u001b[0m\u001b[0;34m\u001b[0m\u001b[0;34m\u001b[0m\u001b[0m\n\u001b[1;32m    134\u001b[0m             \u001b[0;32mfor\u001b[0m \u001b[0mname\u001b[0m\u001b[0;34m,\u001b[0m \u001b[0mloss_\u001b[0m \u001b[0;32min\u001b[0m \u001b[0mbatch_xtra_losses\u001b[0m\u001b[0;34m.\u001b[0m\u001b[0mitems\u001b[0m\u001b[0;34m(\u001b[0m\u001b[0;34m)\u001b[0m\u001b[0;34m:\u001b[0m\u001b[0;34m\u001b[0m\u001b[0;34m\u001b[0m\u001b[0m\n",
      "\u001b[0;31mUnboundLocalError\u001b[0m: local variable 'loss_name' referenced before assignment"
     ]
    }
   ],
   "source": [
    "from content.train import train\n",
    "\n",
    "best_epochs = {}\n",
    "\n",
    "#args.NIG_lambda = NIG_LAMBDA = 0.01\n",
    "#EXPERIMENT_VERSION = f'lambda{NIG_LAMBDA}'\n",
    "args.experiment_name = EXPERIMENT_NAME\n",
    "\n",
    "# TRAINING-RELATED CLASSES\n",
    "model = BaselineGNN3D(device=args.device,state_dim=state_dim)\n",
    "model.to(torch.device(args.device))\n",
    "\n",
    "loss_function = GAUSSIANNLLLoss()\n",
    "optimizer = torch.optim.Adam(model.parameters(), lr=LR)\n",
    "\n",
    "# Run training loop\n",
    "os.makedirs(f\"{SAVE_PATH}/{EXPERIMENT_NAME}\")\n",
    "model, best_epoch = train(dataloaders, model, optimizer, loss_function, epochs=EPOCHS,\n",
    "                          val_every_step=VAL_EVERY_STEP, experiment_name=f\"{EXPERIMENT_NAME}\",\n",
    "                          tensorboard_logdir=TENSORBOARD_LOGDIR, tensorboard_filename=determine_run_version(args),\n",
    "                         save_path=f\"{SAVE_PATH}/{EXPERIMENT_NAME}\")\n",
    "#best_epochs[NIG_LAMBDA] = best_epoch"
   ]
  },
  {
   "cell_type": "markdown",
   "metadata": {
    "pycharm": {
     "name": "#%% md\n"
    }
   },
   "source": [
    "#### 4.4 - Evaluating the synthetic 3D model <a class=\"anchor\" id=\"4.4\"></a>"
   ]
  },
  {
   "cell_type": "code",
   "execution_count": 21,
   "metadata": {},
   "outputs": [],
   "source": [
    "from omegaconf import OmegaConf\n",
    "from content.modules.utils import load_data\n",
    "\n",
    "DATA_DIR = 'content/data'\n",
    "BATCH_SIZE = 16\n",
    "SAVE_PATH = 'models'\n",
    "SEED = 0\n",
    "\n",
    "args = OmegaConf.create({})\n",
    "\n",
    "# TRAINING-RELATED PARAMETERS\n",
    "args.mode = 'evaluation'\n",
    "args.data_dir = DATA_DIR\n",
    "args.batch_size = BATCH_SIZE\n",
    "args.dataset = ['SYNTHETIC3', 'SYNTHETIC3']\n",
    "args.id_ood = ['ID', 'ID']\n",
    "\n",
    "args.model = ['GNN3D','BASE3D']\n",
    "args.experiment_name = ['EviGNN_SYNTHETIC3_-3lr_10stdim-lambda0.01','BaseGNN_SYNTHETIC3_-2lr_100stdim']\n",
    "args.save_path = SAVE_PATH\n",
    "args.device = 'cpu'\n",
    "args.seed = SEED"
   ]
  },
  {
   "cell_type": "code",
   "execution_count": 22,
   "metadata": {
    "pycharm": {
     "name": "#%%\n"
    }
   },
   "outputs": [
    {
     "name": "stdout",
     "output_type": "stream",
     "text": [
      "\n",
      "LOADED DATALOADER OBJECTS!\n",
      "\n",
      "LOADED DATALOADER OBJECTS!\n"
     ]
    },
    {
     "data": {
      "image/png": "[encoded data removed]",
      "text/plain": [
       "<Figure size 432x288 with 2 Axes>"
      ]
     },
     "metadata": {},
     "output_type": "display_data"
    }
   ],
   "source": [
    "from copy import deepcopy\n",
    "from content.modules.utils import load_model\n",
    "from content.evaluate import evaluate_model\n",
    "\n",
    "models = {}\n",
    "loaders_dict = {}\n",
    "# getting each model\n",
    "for idx, exp in enumerate(args.experiment_name):\n",
    "    curr_args = deepcopy(args)\n",
    "    curr_args.experiment_name, curr_args.model = exp, args.model[idx]\n",
    "    # model\n",
    "    models[exp] = load_model(curr_args)\n",
    "    #print(idx, exp)\n",
    "\n",
    "# getting each dataset loader\n",
    "for idx, data in enumerate(args.dataset):\n",
    "    curr_args = deepcopy(args)\n",
    "    curr_args.dataset =args.dataset[idx]\n",
    "    # dataset\n",
    "    loaders_dict[args.id_ood[idx]] = load_data(curr_args)\n",
    "\n",
    "table_results = evaluate_model(loaders_dict=loaders_dict, models=models, experiments=args.experiment_name, args = args)"
   ]
  },
  {
   "cell_type": "code",
   "execution_count": null,
   "metadata": {},
   "outputs": [],
   "source": []
  },
  {
   "cell_type": "code",
   "execution_count": 20,
   "metadata": {
    "pycharm": {
     "name": "#%%\n"
    }
   },
   "outputs": [],
   "source": [
    "from omegaconf import OmegaConf\n",
    "from content.modules.utils import load_data\n",
    "\n",
    "DATA_DIR = 'content/data'\n",
    "BATCH_SIZE = 16\n",
    "SAVE_PATH = 'models'\n",
    "SEED = 0\n",
    "\n",
    "args = OmegaConf.create({})\n",
    "\n",
    "# TRAINING-RELATED PARAMETERS\n",
    "args.mode = 'evaluation'\n",
    "args.data_dir = DATA_DIR\n",
    "args.batch_size = BATCH_SIZE\n",
    "args.dataset = ['SYNTHETIC05','SYNTHETIC05']\n",
    "args.id_ood = ['OOD','OOD']\n",
    "\n",
    "args.model = ['GNN3D', 'BASE3D']\n",
    "args.experiment_name = ['EviGNN_SYNTHETIC2-lambda0.01','BaseGNN_SYNTHETIC2']\n",
    "args.save_path = SAVE_PATH\n",
    "args.device = 'cpu'\n",
    "args.seed = SEED"
   ]
  },
  {
   "cell_type": "code",
   "execution_count": 21,
   "metadata": {},
   "outputs": [
    {
     "name": "stdout",
     "output_type": "stream",
     "text": [
      "\n",
      "LOADED DATALOADER OBJECTS!\n",
      "\n",
      "LOADED DATALOADER OBJECTS!\n",
      "Save folder already exists\n"
     ]
    },
    {
     "data": {
      "image/png": "[encoded data removed]",
      "text/plain": [
       "<Figure size 432x288 with 2 Axes>"
      ]
     },
     "metadata": {},
     "output_type": "display_data"
    }
   ],
   "source": [
    "from copy import deepcopy\n",
    "from content.modules.utils import load_model\n",
    "from content.evaluate import evaluate_model\n",
    "\n",
    "models = {}\n",
    "loaders_dict = {}\n",
    "# getting each model\n",
    "for idx, exp in enumerate(args.experiment_name):\n",
    "    curr_args = deepcopy(args)\n",
    "    curr_args.experiment_name, curr_args.model = exp, args.model[idx]\n",
    "    # model\n",
    "    models[exp] = load_model(curr_args)\n",
    "\n",
    "# getting each dataset loader\n",
    "for idx, data in enumerate(args.dataset):\n",
    "    curr_args = deepcopy(args)\n",
    "    curr_args.dataset =args.dataset[idx]\n",
    "    # dataset\n",
    "    loaders_dict[args.id_ood[idx]] = load_data(curr_args)\n",
    "\n",
    "table_results = evaluate_model(loaders_dict=loaders_dict, models=models, experiments=args.experiment_name, args = args)"
   ]
  },
  {
   "cell_type": "markdown",
   "metadata": {
    "pycharm": {
     "name": "#%% md\n"
    }
   },
   "source": [
    "### 5. Applying uncertainty quantification to a down-stream task - Molecular Property prediction <a class=\"anchor\" id=\"5\"></a>\n"
   ]
  },
  {
   "cell_type": "markdown",
   "metadata": {
    "pycharm": {
     "name": "#%% md\n"
    }
   },
   "source": [
    "#### 5.1 - The QM7 dataset <a class=\"anchor\" id=\"5.1\"></a>"
   ]
  },
  {
   "cell_type": "code",
   "execution_count": null,
   "metadata": {
    "pycharm": {
     "name": "#%%\n"
    }
   },
   "outputs": [],
   "source": []
  },
  {
   "cell_type": "markdown",
   "metadata": {
    "pycharm": {
     "name": "#%% md\n"
    }
   },
   "source": [
    "#### 5.2 - Training the model - predicting molecular energy <a class=\"anchor\" id=\"5.2\"></a>\n"
   ]
  },
  {
   "cell_type": "code",
   "execution_count": null,
   "metadata": {
    "pycharm": {
     "name": "#%%\n"
    }
   },
   "outputs": [],
   "source": []
  },
  {
   "cell_type": "markdown",
   "metadata": {
    "pycharm": {
     "name": "#%% md\n"
    }
   },
   "source": [
    "#### 5.3 - Evaluating the model <a class=\"anchor\" id=\"5.3\"></a>"
   ]
  },
  {
   "cell_type": "code",
   "execution_count": null,
   "metadata": {
    "pycharm": {
     "name": "#%%\n"
    }
   },
   "outputs": [],
   "source": []
  },
  {
   "cell_type": "code",
   "execution_count": null,
   "metadata": {
    "pycharm": {
     "name": "#%%\n"
    }
   },
   "outputs": [],
   "source": []
  },
  {
   "cell_type": "markdown",
   "metadata": {
    "pycharm": {
     "name": "#%% md\n"
    }
   },
   "source": [
    "### 6. Discussion and Conclusion <a class=\"anchor\" id=\"6\"></a>"
   ]
  },
  {
   "cell_type": "code",
   "execution_count": null,
   "metadata": {
    "pycharm": {
     "name": "#%%\n"
    }
   },
   "outputs": [],
   "source": []
  },
  {
   "cell_type": "markdown",
   "metadata": {
    "pycharm": {
     "name": "#%% md\n"
    }
   },
   "source": []
  },
  {
   "cell_type": "code",
   "execution_count": null,
   "metadata": {
    "pycharm": {
     "name": "#%%\n"
    }
   },
   "outputs": [],
   "source": []
  }
 ],
 "metadata": {
  "kernelspec": {
   "display_name": "Python 3",
   "language": "python",
   "name": "python3"
  },
  "language_info": {
   "codemirror_mode": {
    "name": "ipython",
    "version": 3
   },
   "file_extension": ".py",
   "mimetype": "text/x-python",
   "name": "python",
   "nbconvert_exporter": "python",
   "pygments_lexer": "ipython3",
   "version": "3.8.8"
  }
 },
 "nbformat": 4,
 "nbformat_minor": 1
}
