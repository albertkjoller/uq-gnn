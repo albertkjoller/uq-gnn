{
 "cells": [
  {
   "cell_type": "markdown",
   "id": "8ccc3bf9",
   "metadata": {},
   "source": [
    "# Analysis of the QM7 dataset\n",
    "\n",
    "\n",
    "*Taken from:* https://www.kaggle.com/code/mjmurphy28/predicting-atomization-energy-qm7/notebook\n",
    "\n",
    "*Original website:* http://quantum-machine.org/datasets/\n",
    "\n",
    "**Attributes:**\n",
    "\n",
    "- X: (7165 x 23 x 23), Coulomb matrices, low-level molecular descriptor (Rupp et al., 2012)\n",
    "- T: (7165), atomization energies (unit: kcal/mol)\n",
    "- P: (5 x 1433), cross-validation splits as used in [Montavon et al. NIPS, 2012]\n",
    "- Z: (7165 x 23), atomic charges\n",
    "- R: (7165 x 23 x 3), cartesian coordinate (unit: Bohr) of each atom in the molecules\n",
    "\n",
    "\n",
    "I.e. it contains 23 atoms and 7165 molecules.\n",
    "\n",
    "They say 'The Coulomb matrix has built-in invariance to translation and rotation of the molecule', because it is calculated by:\n",
    "\n",
    "$$C_{ii} = \\frac{1}{2} Z_i^{2.4} \\text{ and } C_{ij} = \\frac{Z_i Z_j}{|R_i - R_j|}$$\n",
    "\n",
    "where $Z_i$ is the nuclear charge of atom $i$ and $R_i$ is its position. Thus translation and rotation of a molecule (the atoms positions) will not change the value of $C$.\n"
   ]
  },
  {
   "cell_type": "code",
   "execution_count": 202,
   "id": "1a69cab4",
   "metadata": {},
   "outputs": [],
   "source": [
    "import pandas as pd\n",
    "import scipy.io\n",
    "import numpy as np\n",
    "from scipy.spatial.distance import pdist, squareform\n",
    "import networkx as nx\n",
    "import matplotlib.pyplot as plt\n",
    "import seaborn as sns\n",
    "%matplotlib inline\n",
    "import time\n",
    "import torch\n",
    "import os\n",
    "\n",
    "rand_state = 42\n",
    "\n",
    "np.random.seed(rand_state)"
   ]
  },
  {
   "cell_type": "code",
   "execution_count": 9,
   "id": "3cdc91b8",
   "metadata": {},
   "outputs": [
    {
     "data": {
      "text/plain": [
       "dict_keys(['__header__', '__version__', '__globals__', 'X', 'R', 'Z', 'T', 'P'])"
      ]
     },
     "execution_count": 9,
     "metadata": {},
     "output_type": "execute_result"
    }
   ],
   "source": [
    "qm7 = scipy.io.loadmat('../data/qm7.mat')\n",
    "qm7.keys()"
   ]
  },
  {
   "cell_type": "code",
   "execution_count": 46,
   "id": "2905de21",
   "metadata": {},
   "outputs": [
    {
     "data": {
      "text/plain": [
       "array([[36.858105  ,  2.9076326 ,  2.907612  ,  2.9075644 ,  2.9053485 ],\n",
       "       [ 2.9076326 ,  0.5       ,  0.29672   ,  0.29671896,  0.2966784 ],\n",
       "       [ 2.907612  ,  0.29672   ,  0.5       ,  0.29671845,  0.29667813],\n",
       "       [ 2.9075644 ,  0.29671896,  0.29671845,  0.5       ,  0.29667678],\n",
       "       [ 2.9053485 ,  0.2966784 ,  0.29667813,  0.29667678,  0.5       ]],\n",
       "      dtype=float32)"
      ]
     },
     "execution_count": 46,
     "metadata": {},
     "output_type": "execute_result"
    }
   ],
   "source": [
    "# coulomb matrix of first molecule\n",
    "\n",
    "qm7['X'][0][:5,:5]"
   ]
  },
  {
   "cell_type": "code",
   "execution_count": 48,
   "id": "b9a3bf7d",
   "metadata": {},
   "outputs": [
    {
     "data": {
      "text/plain": [
       "array([6., 1., 1., 1., 1.], dtype=float32)"
      ]
     },
     "execution_count": 48,
     "metadata": {},
     "output_type": "execute_result"
    }
   ],
   "source": [
    "# atom energies (see periodic table)\n",
    "#    - from here we see it consists of CH4 (which is methane)\n",
    "# note: this ordering varies per molecule\n",
    "qm7['Z'][0][:5]"
   ]
  },
  {
   "cell_type": "markdown",
   "id": "ec93d8d0",
   "metadata": {},
   "source": [
    "### formatting the dataset to Datasets.py"
   ]
  },
  {
   "cell_type": "code",
   "execution_count": 121,
   "id": "030f8296",
   "metadata": {},
   "outputs": [
    {
     "name": "stdout",
     "output_type": "stream",
     "text": [
      "total atoms with charges:  110650\n",
      "total atoms with coordinates:  110650\n",
      "the same thus former can be used from self.num_nodes\n"
     ]
    }
   ],
   "source": [
    "print('total atoms with charges: ', (qm7['Z']>0).sum())\n",
    "print('total atoms with coordinates: ', ((qm7['R']**2).sum(axis=2)>0).sum())\n",
    "print('the same thus former can be used from self.num_nodes')"
   ]
  },
  {
   "cell_type": "code",
   "execution_count": 187,
   "id": "b3f05df1",
   "metadata": {},
   "outputs": [],
   "source": [
    "# it needs the following attributes\n",
    "\n",
    "# GRAPH/MOLECULE RELATED:\n",
    "\n",
    "# Number of graphs in the dataset, i.e. molecules\n",
    "num_graphs = len(qm7['T'][0]) # T is atomization energies (target)\n",
    "\n",
    "# Graph list, each molecule has a\n",
    "graph_list = torch.tensor(range(num_graphs))\n",
    "\n",
    "# the energy of each molecule\n",
    "molecule_energy = torch.tensor(qm7['T'][0])\n",
    "\n",
    "# NODE/ATOM RELATED:\n",
    "\n",
    "# i.e. atoms, each atom will be distinct\n",
    "# total charges higher than 0 (there are no negative and 0 charged atoms, see above)\n",
    "num_nodes = int((qm7['Z']>0).sum())\n",
    "\n",
    "node_list = torch.tensor(range(num_nodes))\n",
    "\n",
    "# Node graph index, molecule number each atom belongs to\n",
    "node_graph_index = []\n",
    "\n",
    "# Node coordinates\n",
    "node_coordinates = []\n",
    "\n",
    "# Node atomic charge\n",
    "node_charge = [0]*num_nodes # currently empty\n",
    "\n",
    "\n",
    "# EDGE RELATED:\n",
    "\n",
    "# Edge list - fully conected graphs due to \n",
    "edge_list = []\n",
    "\n",
    "# the coulomb value for each edge\n",
    "edge_coulomb = []\n",
    "\n",
    "\n",
    "# keeping note of atom indices globally (i.e. for all graphs and w.r.t. num_nodes)\n",
    "global_idx = 0\n",
    "# looping each molecule\n",
    "for molecule in graph_list:\n",
    "    \n",
    "    # each nodes index in current graph (globally)\n",
    "    nodes_idx_graph = [local_idx + global_idx for local_idx in list(range((qm7['Z'][molecule]>0).sum()))]\n",
    "    \n",
    "    # looping each atom/node in current molecule\n",
    "    for node_idx in range((qm7['Z'][molecule]>0).sum()) :\n",
    "        node_graph_index.append(molecule) # saving which molecule this atom belongs to\n",
    "        node_coordinates.append(qm7['R'][molecule][node_idx]) # saving nodes/atoms coordinate\n",
    "        node_charge[global_idx] = qm7['Z'][molecule][node_idx] # saving each nodes/atoms energy\n",
    "        \n",
    "        # looping all neighbouring nodes/atoms in graph/molecule (based on global node index)\n",
    "        # creating edge list, note: fully connected\n",
    "        for idx, neighbouring_node in enumerate(nodes_idx_graph):\n",
    "            # if not current atom_idx (don't want edges going to themselvel)\n",
    "            if neighbouring_node != global_idx:\n",
    "                # creating the edge list\n",
    "                edge_list.append([global_idx, neighbouring_node])\n",
    "                # coulomb value per edge, note: symmetric\n",
    "                edge_coulomb.append(qm7['X'][molecule][node_idx, idx])\n",
    "        \n",
    "        global_idx += 1\n",
    "\n",
    "assert num_nodes == global_idx, 'inconsistencies noticed'\n",
    "\n",
    "#self.node_graph_index = torch.tensor(node_coordinates)\n",
    "\n",
    "#self.node_coordinates = torch.tensor(node_coordinates)\n",
    "\n",
    "#self.node_charge = torch.tensor(node_charge)\n",
    "\n",
    "#self.edge_list = torch.tensor(edge_list)\n",
    "\n",
    "#self.edge_coulomb = torch.tensor(edge_coulomb)"
   ]
  },
  {
   "cell_type": "code",
   "execution_count": 194,
   "id": "54de1cee",
   "metadata": {},
   "outputs": [],
   "source": [
    "import Datasets"
   ]
  },
  {
   "cell_type": "code",
   "execution_count": 193,
   "id": "4f43310d",
   "metadata": {
    "scrolled": true
   },
   "outputs": [
    {
     "ename": "AttributeError",
     "evalue": "module 'Datasets' has no attribute 'QM7'",
     "output_type": "error",
     "traceback": [
      "\u001b[0;31m---------------------------------------------------------------------------\u001b[0m",
      "\u001b[0;31mAttributeError\u001b[0m                            Traceback (most recent call last)",
      "\u001b[0;32m/var/folders/p0/2qnwrmjn7yd0ks7pnlb3d7mc0000gn/T/ipykernel_46555/2324820894.py\u001b[0m in \u001b[0;36m<module>\u001b[0;34m\u001b[0m\n\u001b[0;32m----> 1\u001b[0;31m \u001b[0mDatasets\u001b[0m\u001b[0;34m.\u001b[0m\u001b[0mQM7\u001b[0m\u001b[0;34m\u001b[0m\u001b[0;34m\u001b[0m\u001b[0m\n\u001b[0m",
      "\u001b[0;31mAttributeError\u001b[0m: module 'Datasets' has no attribute 'QM7'"
     ]
    }
   ],
   "source": [
    "Datasets.QM7"
   ]
  },
  {
   "cell_type": "markdown",
   "id": "190ba10e",
   "metadata": {},
   "source": [
    "in til train.py script"
   ]
  },
  {
   "cell_type": "code",
   "execution_count": 207,
   "id": "53145be8",
   "metadata": {},
   "outputs": [
    {
     "data": {
      "text/plain": [
       "'/Users/arond.jacobsen/Documents/GitHub/uq-gnn/content/notebooks'"
      ]
     },
     "execution_count": 207,
     "metadata": {},
     "output_type": "execute_result"
    }
   ],
   "source": [
    "path = os.getcwd()\n",
    "path"
   ]
  },
  {
   "cell_type": "code",
   "execution_count": 201,
   "id": "bcdb9c17",
   "metadata": {},
   "outputs": [
    {
     "ename": "NameError",
     "evalue": "name 'pwd' is not defined",
     "output_type": "error",
     "traceback": [
      "\u001b[0;31m---------------------------------------------------------------------------\u001b[0m",
      "\u001b[0;31mNameError\u001b[0m                                 Traceback (most recent call last)",
      "\u001b[0;32m/var/folders/p0/2qnwrmjn7yd0ks7pnlb3d7mc0000gn/T/ipykernel_46555/651675593.py\u001b[0m in \u001b[0;36m<module>\u001b[0;34m\u001b[0m\n\u001b[0;32m----> 1\u001b[0;31m \u001b[0mpath\u001b[0m \u001b[0;34m=\u001b[0m \u001b[0mpwd\u001b[0m\u001b[0;34m\u001b[0m\u001b[0;34m\u001b[0m\u001b[0m\n\u001b[0m",
      "\u001b[0;31mNameError\u001b[0m: name 'pwd' is not defined"
     ]
    }
   ],
   "source": [
    "path = pwd"
   ]
  },
  {
   "cell_type": "code",
   "execution_count": null,
   "id": "bc8c9d42",
   "metadata": {},
   "outputs": [],
   "source": [
    "sys.path.insert(1, '/path/to/application/app/folder')"
   ]
  }
 ],
 "metadata": {
  "kernelspec": {
   "display_name": "Python 3 (ipykernel)",
   "language": "python",
   "name": "python3"
  },
  "language_info": {
   "codemirror_mode": {
    "name": "ipython",
    "version": 3
   },
   "file_extension": ".py",
   "mimetype": "text/x-python",
   "name": "python",
   "nbconvert_exporter": "python",
   "pygments_lexer": "ipython3",
   "version": "3.8.12"
  }
 },
 "nbformat": 4,
 "nbformat_minor": 5
}
